{
 "cells": [
  {
   "attachments": {},
   "cell_type": "markdown",
   "metadata": {},
   "source": [
    "# IS53051A Machine Learning Assignment\n",
    "### Jake Tyler [student number] & Sonny Holland [student number]"
   ]
  },
  {
   "cell_type": "markdown",
   "metadata": {},
   "source": [
    "# Setting up our notebook\n"
   ]
  },
  {
   "cell_type": "markdown",
   "metadata": {},
   "source": [
    "### Importing libraries"
   ]
  },
  {
   "cell_type": "code",
   "execution_count": 560,
   "metadata": {},
   "outputs": [],
   "source": [
    "import pandas as pd\n",
    "import matplotlib.pyplot as plt\n",
    "import numpy as np\n",
    "import sklearn as sk"
   ]
  },
  {
   "cell_type": "markdown",
   "metadata": {},
   "source": [
    "### Importing the dataset"
   ]
  },
  {
   "cell_type": "code",
   "execution_count": 561,
   "metadata": {},
   "outputs": [],
   "source": [
    "dataset = pd.read_csv('datcw_na.csv')"
   ]
  },
  {
   "cell_type": "markdown",
   "metadata": {},
   "source": [
    "# Data inspection and Visualisations"
   ]
  },
  {
   "attachments": {},
   "cell_type": "markdown",
   "metadata": {},
   "source": [
    "### Data inspection\n",
    "\n",
    "First we take a brief look at our dataset:"
   ]
  },
  {
   "cell_type": "code",
   "execution_count": 562,
   "metadata": {},
   "outputs": [
    {
     "name": "stdout",
     "output_type": "stream",
     "text": [
      "   X0    X1      X2      X3      X4    X5    X6   X7   X8      Y\n",
      "0  C3  1.19  622.55     NaN   89.31  7.00  1.98  0.0  0.0  15.55\n",
      "1  C1  1.19  622.55  323.40  109.15  7.70  3.00  0.0  0.0  15.55\n",
      "2  C1  0.88  463.05  291.06   99.23  5.67  4.40  0.0  0.0  15.55\n",
      "3  C2  0.79  509.36  291.06  121.28  6.30  4.05  0.0  0.0  15.55\n",
      "4  C1  0.89  507.15  385.39  121.28  7.70  2.00  0.0  0.0  20.84 \n",
      "\n",
      "<class 'pandas.core.frame.DataFrame'>\n",
      "RangeIndex: 768 entries, 0 to 767\n",
      "Data columns (total 10 columns):\n",
      " #   Column  Non-Null Count  Dtype  \n",
      "---  ------  --------------  -----  \n",
      " 0   X0      768 non-null    object \n",
      " 1   X1      768 non-null    float64\n",
      " 2   X2      768 non-null    float64\n",
      " 3   X3      728 non-null    float64\n",
      " 4   X4      768 non-null    float64\n",
      " 5   X5      768 non-null    float64\n",
      " 6   X6      768 non-null    float64\n",
      " 7   X7      768 non-null    float64\n",
      " 8   X8      768 non-null    float64\n",
      " 9   Y       768 non-null    float64\n",
      "dtypes: float64(9), object(1)\n",
      "memory usage: 60.1+ KB\n",
      "None\n"
     ]
    }
   ],
   "source": [
    "print(dataset.head(), \"\\n\")\n",
    "print(dataset.info())"
   ]
  },
  {
   "attachments": {},
   "cell_type": "markdown",
   "metadata": {},
   "source": [
    "### column 'X3' has missing values and column 'X0' is non-numerical,\n",
    "\n",
    "We can determine that column 'X3' has 768 entries. Additionally, using the .isna().sum() method we can identify that 40 values are missing from these entries:"
   ]
  },
  {
   "cell_type": "code",
   "execution_count": 563,
   "metadata": {},
   "outputs": [
    {
     "name": "stdout",
     "output_type": "stream",
     "text": [
      "X3 number of entries: 768\n",
      "X3 missing values: 40\n"
     ]
    }
   ],
   "source": [
    "print(\"X3 number of entries:\", dataset[\"X3\"].size)\n",
    "print(\"X3 missing values:\", dataset['X3'].isna().sum())"
   ]
  },
  {
   "attachments": {},
   "cell_type": "markdown",
   "metadata": {},
   "source": [
    "Here we can determine that 'X0' is a nominal/categorical variable. The value_counts() method also provides the elements in descending order, starting with the most frequently occurring one:"
   ]
  },
  {
   "cell_type": "code",
   "execution_count": 564,
   "metadata": {},
   "outputs": [
    {
     "name": "stdout",
     "output_type": "stream",
     "text": [
      "X0 value counts:\n",
      "C2    265\n",
      "C3    260\n",
      "C1    243\n",
      "Name: X0, dtype: int64\n"
     ]
    }
   ],
   "source": [
    "print(\"X0 value counts:\")\n",
    "print(dataset[\"X0\"].value_counts())"
   ]
  },
  {
   "attachments": {},
   "cell_type": "markdown",
   "metadata": {},
   "source": [
    "### assessing options for handling missing values in our dataset before pre-processing,\n",
    "\n",
    "If the amount of missing data is small and randomly distributed, it may be appropriate to replace missing values with the mean of the non-missing values. This can preserve the overall distribution of the data and prevent the loss of valuable information. \n",
    "\n",
    "If the missing data is large or non-random, it may be better to drop the missing values altogether. This can help prevent the introduction of bias into the analysis and reduce the risk of making incorrect predictions. However, dropping missing values can also result in a loss of information and reduce the sample size, potentially reducing the accuracy of the model.\n",
    "\n",
    "Here, we can perform some basic forms of analysis to investigate whether the missing data is small and randomly distributed:"
   ]
  },
  {
   "attachments": {},
   "cell_type": "markdown",
   "metadata": {},
   "source": [
    "### percentage of missing data"
   ]
  },
  {
   "cell_type": "code",
   "execution_count": 565,
   "metadata": {},
   "outputs": [
    {
     "name": "stdout",
     "output_type": "stream",
     "text": [
      "percentage of missing values:\n",
      "X0    0.000000\n",
      "X1    0.000000\n",
      "X2    0.000000\n",
      "X3    0.052083\n",
      "X4    0.000000\n",
      "X5    0.000000\n",
      "X6    0.000000\n",
      "X7    0.000000\n",
      "X8    0.000000\n",
      "Y     0.000000\n",
      "dtype: float64 \n",
      "\n"
     ]
    }
   ],
   "source": [
    "print(\"percentage of missing values:\")\n",
    "print(dataset.isna().sum() / dataset.shape[0], \"\\n\")"
   ]
  },
  {
   "attachments": {},
   "cell_type": "markdown",
   "metadata": {},
   "source": [
    "Since the percentage of missing values is less than 5% for all columns, it seems reasonable to assume that the missing values are small. While the 'X3' column has the highest percentage of missing values and exceeds the 5% threshold, the difference is small enough to still consider it small. However, it's important to note that the missing data may still have an impact on the analysis, and a decision has not been made on how to handle it.\n",
    "\n",
    "To determine if the missing data should be kept or not, we will need to examine its correlations with the target variable.\n",
    "\n",
    "Additionally, we may need to perform a sensitivity analysis to assess if the results are affected by the missing data."
   ]
  },
  {
   "attachments": {},
   "cell_type": "markdown",
   "metadata": {},
   "source": [
    "### distribution of data\n",
    "\n",
    "To understand the distribution of the non-missing values, we can use a histogram to gain some visual insights:"
   ]
  },
  {
   "cell_type": "code",
   "execution_count": 566,
   "metadata": {},
   "outputs": [
    {
     "data": {
      "image/png": "[encoded data removed]",
      "text/plain": [
       "<Figure size 640x480 with 1 Axes>"
      ]
     },
     "metadata": {},
     "output_type": "display_data"
    }
   ],
   "source": [
    "plt.hist(dataset['X3'], bins=20)\n",
    "plt.xlabel('X3 values')\n",
    "plt.ylabel('Frequency')\n",
    "plt.show()"
   ]
  },
  {
   "attachments": {},
   "cell_type": "markdown",
   "metadata": {},
   "source": [
    "### generate a example datasets for visual comparison,\n",
    "\n",
    "we can examine whether the above histogram is random or non-random with a comparison against some example histograms below:"
   ]
  },
  {
   "attachments": {},
   "cell_type": "markdown",
   "metadata": {},
   "source": [
    "random dataset example:"
   ]
  },
  {
   "cell_type": "code",
   "execution_count": 567,
   "metadata": {},
   "outputs": [
    {
     "data": {
      "image/png": "[encoded data removed]",
      "text/plain": [
       "<Figure size 640x480 with 1 Axes>"
      ]
     },
     "metadata": {},
     "output_type": "display_data"
    }
   ],
   "source": [
    "data = np.random.randn(100)\n",
    "plt.hist(data, bins=20)\n",
    "plt.show()"
   ]
  },
  {
   "attachments": {},
   "cell_type": "markdown",
   "metadata": {},
   "source": [
    "non-random dataset example:"
   ]
  },
  {
   "cell_type": "code",
   "execution_count": 568,
   "metadata": {},
   "outputs": [
    {
     "data": {
      "image/png": "[encoded data removed]",
      "text/plain": [
       "<Figure size 640x480 with 1 Axes>"
      ]
     },
     "metadata": {},
     "output_type": "display_data"
    }
   ],
   "source": [
    "data = np.random.normal(0, 1, 100) ** 3\n",
    "plt.hist(data, bins=20)\n",
    "plt.show()"
   ]
  },
  {
   "attachments": {},
   "cell_type": "markdown",
   "metadata": {},
   "source": [
    "from the above examples we can determine that the missing values in column X3 are small and randomly distributed, we can consider imputing the missing values with a reasonable method, such as mean imputation or interpolation, to fill in the gaps in the data.\n",
    "\n",
    "Before deciding on an imputation method, it would be a good idea to analyze the relationship between X3 and the target variable to see if the missing values have a significant impact on the results. You can use correlation analysis or other statistical methods to determine the impact of missing values.\n"
   ]
  },
  {
   "attachments": {},
   "cell_type": "markdown",
   "metadata": {},
   "source": [
    "### assessing options for handling categorical data in our dataset before pre-processing,\n",
    "\n",
    "There are several techniques to handle categorical data, including:\n",
    "\n",
    "* Label encoding: In this technique, each category is assigned a unique numerical value. For example, if we have a categorical feature \"color\" with values \"red\", \"green\", and \"blue\", we can assign them numerical values 1, 2, and 3, respectively. Label encoding is simple to implement but can be problematic if the numerical values imply an ordering or magnitude that does not exist in the categorical feature.\n",
    "\n",
    "* One-hot encoding: In this technique, a new binary column is created for each category in the categorical feature. Each row in the dataset is assigned a 1 in the corresponding category column and 0 in all other category columns. For example, if we have a categorical feature \"color\" with values \"red\", \"green\", and \"blue\", we can create three new columns \"color_red\", \"color_green\", and \"color_blue\" and assign binary values based on the presence or absence of each category in each row.\n",
    "\n",
    "* Binary encoding: This technique is similar to one-hot encoding, but it reduces the number of columns required to represent categorical data. In binary encoding, the categories are first encoded as integers and then converted to binary code. For example, if we have a categorical feature \"color\" with values \"red\", \"green\", and \"blue\", we can first assign them numerical values 1, 2, and 3, respectively, and then convert them to binary code 001, 010, and 100, respectively.\n",
    "\n",
    "* Count encoding: In this technique, each category is replaced with the count of the number of times it appears in the dataset. This technique can be useful if the frequency of occurrence of each category is important for the analysis.\n",
    "\n",
    "* Target encoding: In this technique, each category is replaced with the mean of the target variable for that category. This technique can be useful for classification problems where the target variable is a categorical variable.\n",
    "\n",
    "Overall, the appropriate technique to use for handling categorical data depends on the specifics of your problem, the number of categories, and the type of machine learning algorithm being used. It is important to experiment with different techniques and evaluate their performance on the problem at hand.\n"
   ]
  },
  {
   "attachments": {},
   "cell_type": "markdown",
   "metadata": {},
   "source": [
    " Now that you know which columns have missing values, you can choose how to handle them.\n",
    " Some common techniques for handling missing values include:\n",
    " Dropping rows or columns with missing values\n",
    " Filling missing values with a fixed value (e.g., 0, mean, median)\n",
    " Using an imputation method to predict missing values based on other variables in the dataset\n",
    " The choice of technique will depend on the specific requirements of your machine learning problem\n",
    " and the characteristics of your dataset.\n",
    " Some common techniques for handling missing values include:\n",
    " - Dropping rows or columns with missing values\n",
    " - Filling missing values with a fixed value (e.g., 0, mean, median)\n",
    " - Using an imputation method to predict missing values based on other variables in the dataset\n",
    " here are some questions that can help you choose an appropriate technique for handling missing values:\n",
    " - How many missing values do you have in each column? If a column has a large percentage of missing values,\n",
    " it might be better to drop that column altogether, rather than trying to fill in the missing values.\n",
    " - What is the nature of the missing values in your dataset? Are they missing at random (MAR),\n",
    " missing completely at random (MCAR), or missing not at random (MNAR)? This can help you decide which \n",
    " imputation method to use.\n",
    " - Are there any correlations between the missing values and other variables in the dataset? If so,\n",
    " you might be able to use these correlations to impute the missing values.\n",
    " - What type of data is in the column with missing values? If it's categorical data,\n",
    " you might use a mode imputation technique, where you fill in missing values with the most common\n",
    " value in the column. If it's continuous data, you might use mean, median or other statistical\n",
    " imputation techniques.\n",
    " - What is the impact of removing or imputing missing values on your machine learning model?\n",
    " Depending on your dataset and your model, removing or imputing missing values might improve or\n",
    " degrade the performance of your model."
   ]
  },
  {
   "attachments": {},
   "cell_type": "markdown",
   "metadata": {},
   "source": [
    " WE CAN CHECK THE CORRELATIONS BETWEEN THE MISSING VALUES AND OTHER VARIABLES IN THE DATASET\n",
    " USING THE CORRELATION MATRIX"
   ]
  },
  {
   "cell_type": "code",
   "execution_count": 569,
   "metadata": {},
   "outputs": [
    {
     "name": "stderr",
     "output_type": "stream",
     "text": [
      "/var/folders/yl/xlfszlh139sb6qg5_gn41sdc0000gn/T/ipykernel_73563/3756635859.py:2: FutureWarning: The default value of numeric_only in DataFrame.corr is deprecated. In a future version, it will default to False. Select only valid columns or specify the value of numeric_only to silence this warning.\n",
      "  corr_matrix = dataset.corr()\n"
     ]
    },
    {
     "data": {
      "text/plain": [
       "Y     1.000000\n",
       "X5    0.815769\n",
       "X1    0.454177\n",
       "X3    0.312449\n",
       "X7    0.255901\n",
       "X8    0.087106\n",
       "X6    0.001340\n",
       "X2   -0.481192\n",
       "X4   -0.771040\n",
       "Name: Y, dtype: float64"
      ]
     },
     "execution_count": 569,
     "metadata": {},
     "output_type": "execute_result"
    }
   ],
   "source": [
    "# create a correlation matrix\n",
    "corr_matrix = dataset.corr()\n",
    "corr_matrix[\"Y\"].sort_values(ascending=False)"
   ]
  },
  {
   "attachments": {},
   "cell_type": "markdown",
   "metadata": {},
   "source": [
    "Based on the information provided, it seems reasonable to replace the missing values in column\n",
    "X3 with the mean value, as the percentage of missing values is relatively low (5.2%).\n",
    "Additionally, X3 appears to have a moderate positive correlation with the target variable Y\n",
    "(correlation coefficient of 0.31), indicating that it may be a useful feature in predicting Y\n",
    "However, before deciding to replace missing values with the mean, it's important to consider the\n",
    "nature of the data and the potential impact of imputing missing values on the analysis results.\n",
    "For instance, if X3 has a significant number of extreme values or outliers, then the mean may\n",
    "not be a representative measure of central tendency, and imputing missing values with the mean\n",
    "could distort the distribution of the data\n",
    "Therefore, it's important to carefully evaluate the data and consider other imputation methods,\n",
    "such as using a regression model to predict missing values based on the values of other variables,\n",
    "if appropriate\n",
    "However, it's important to note that the impact of the missing values on the analysis results\n",
    "should be carefully evaluated. If the missing values are not missing at random, and there is\n",
    "a systematic difference between the missing and non-missing values, then replacing the missing\n",
    "values with the mean may introduce bias into the analysis results\n",
    "Therefore, it's important to consider other imputati# on methods and conduct sensitivity analyses\n",
    "to evaluate the impact of missing values on the analysis results.\n"
   ]
  },
  {
   "attachments": {},
   "cell_type": "markdown",
   "metadata": {},
   "source": [
    "sensitivty analysis...?????\n",
    "No, this code is not a sensitivity analysis. It is comparing the correlations\n",
    "between X3 and Y with mean imputation and random drop with mean imputation.\n",
    "A sensitivity analysis involves systematically varying the values of one or more\n",
    "input variables and observing the effect on the output variable(s) to determine\n",
    "the sensitivity of the model to changes in those input variables."
   ]
  },
  {
   "cell_type": "code",
   "execution_count": 570,
   "metadata": {},
   "outputs": [
    {
     "name": "stdout",
     "output_type": "stream",
     "text": [
      "Correlation between X3 and Y with mean imputation: 0.305\n",
      "Correlation between X3 and Y with random drop and mean imputation: 0.283\n",
      "Correlation between X3 and Y with median imputation: 0.306\n",
      "Correlation between X3 and Y with random drop and median imputation: 0.310\n"
     ]
    }
   ],
   "source": [
    "# instantiate multiple copies of the dataset to trial different means of imputation\n",
    "dataset_for_mean = dataset.copy()\n",
    "dataset_for_median = dataset.copy()\n",
    "dataset_for_random_drop_mean = dataset.copy()\n",
    "\n",
    "# Calculate the percentage of missing values in X3\n",
    "missing_X3 = dataset_for_random_drop_mean['X3'].isna().mean()\n",
    "\n",
    "# Replace missing values in column X3 with the mean value, and the other copy with the median value\n",
    "median_X3 = dataset_for_median['X3'].median()\n",
    "mean_X3 = dataset_for_mean['X3'].mean()\n",
    "dataset_for_mean['X3'].fillna(mean_X3, inplace=True)\n",
    "dataset_for_median['X3'].fillna(median_X3, inplace=True)\n",
    "\n",
    "# Calculate the correlation between X3 and Y for the mean imputed dataset\n",
    "correlation_with_mean = dataset_for_mean[['X3', 'Y']].corr().loc['X3', 'Y']\n",
    "\n",
    "# Calculate the correlation between X3 and Y for the median imputed dataset\n",
    "correlation_with_median = dataset_for_median[['X3', 'Y']].corr().loc['X3', 'Y']\n",
    "\n",
    "# Create a copy of the dataset with randomly dropped values in X3\n",
    "dataset_for_random_drop_mean['X3'] = dataset_for_random_drop_mean['X3'].apply(lambda x: np.nan if np.random.rand() < missing_X3 else x)\n",
    "\n",
    "# Replace missing values in the random_drop dataset with the mean value\n",
    "dataset_for_random_drop_mean['X3'].fillna(mean_X3, inplace=True)\n",
    "\n",
    "# Replace missing values in the random_drop dataset with the median value\n",
    "dataset_for_random_drop_mean['X3'].fillna(median_X3, inplace=True)\n",
    "\n",
    "# Calculate the correlation between X3 and Y in the random_drop dataset\n",
    "correlation_with_random_drop = dataset_for_random_drop_mean[['X3', 'Y']].corr().loc['X3', 'Y']\n",
    "\n",
    "# Create a copy of the dataset with randomly dropped values in X3 and median imputation\n",
    "dataset_for_random_drop_median = dataset.copy()\n",
    "dataset_for_random_drop_median['X3'] = dataset_for_random_drop_median['X3'].apply(lambda x: np.nan if np.random.rand() < missing_X3 else x)\n",
    "dataset_for_random_drop_median['X3'].fillna(median_X3, inplace=True)\n",
    "\n",
    "# Calculate the correlation between X3 and Y in the random_drop and median imputed dataset\n",
    "correlation_with_random_drop_median = dataset_for_random_drop_median[['X3', 'Y']].corr().loc['X3', 'Y']\n",
    "\n",
    "# Print the correlation results\n",
    "print(f\"Correlation between X3 and Y with mean imputation: {correlation_with_mean:.3f}\")\n",
    "print(f\"Correlation between X3 and Y with random drop and mean imputation: {correlation_with_random_drop:.3f}\")\n",
    "print(f\"Correlation between X3 and Y with median imputation: {correlation_with_median:.3f}\")\n",
    "print(f\"Correlation between X3 and Y with random drop and median imputation: {correlation_with_random_drop_median:.3f}\")"
   ]
  },
  {
   "attachments": {},
   "cell_type": "markdown",
   "metadata": {},
   "source": [
    "SONNYS BIT: the preceeding code suggests that our choice of imputation has very little affect on the ecology of the dataset, one would expect the use of dropping random values would have a greater impact on the correlation between X3 and Y albeit a negative one, given the ham-fisted nature of this method. For the sake of this exercise we will proceed with the median imputation method. But in other cases it may be worth exploring other means of imputation, such as regression imputation or multiple imputation, to see if they produce more robust results. Alternatively, you may want to consider using analysis methods that are more tolerant to missing data, such as bootstrapping or Bayesian analysis.\n",
    "\n",
    "\n",
    "The correlation between X3 and Y with mean imputation is 0.305 and the correlation between X3 and Y with \n",
    "random drop and mean imputation is 0.286\n",
    "This suggests that imputing missing values in X3 with the mean value has a small positive impact on \n",
    "the correlation between X3 and Y, indicating that there is a weak positive linear relationship between \n",
    "the two variables. However, the difference between the two correlation values is relatively small,\n",
    "suggesting that the choice of imputation method may not have a significant impact on the analysis\n",
    "Based on these results, you can conclude that the two imputation methods produce similar results,\n",
    "but there may be some variability due to missing data. You may then want to explore other\n",
    "imputation methods, such as regression imputation or multiple imputation, to see if they\n",
    "produce more robust results. Alternatively, you may want to consider using analysis methods \n",
    "that are more tolerant to missing data, such as bootstrapping or Bayesian analysis."
   ]
  },
  {
   "attachments": {},
   "cell_type": "markdown",
   "metadata": {},
   "source": [
    "# Data preprocessing and data splitting in 70% training data, and 30% test data"
   ]
  },
  {
   "attachments": {},
   "cell_type": "markdown",
   "metadata": {},
   "source": [
    "Here, we compute a correlation matrix, this informs our data stratification as we want to make decisions upon the features that correlate best to our target variable. Also down the line, we will perform feature selection, based on the correlation matrix; we will be dropping columns with a low correlation to our target variable."
   ]
  },
  {
   "cell_type": "code",
   "execution_count": 571,
   "metadata": {},
   "outputs": [
    {
     "name": "stderr",
     "output_type": "stream",
     "text": [
      "/var/folders/yl/xlfszlh139sb6qg5_gn41sdc0000gn/T/ipykernel_73563/609732122.py:1: FutureWarning: The default value of numeric_only in DataFrame.corr is deprecated. In a future version, it will default to False. Select only valid columns or specify the value of numeric_only to silence this warning.\n",
      "  corr_matrix = dataset.corr()\n"
     ]
    },
    {
     "data": {
      "text/plain": [
       "Y     1.000000\n",
       "X5    0.815769\n",
       "X1    0.454177\n",
       "X3    0.312449\n",
       "X7    0.255901\n",
       "X8    0.087106\n",
       "X6    0.001340\n",
       "X2   -0.481192\n",
       "X4   -0.771040\n",
       "Name: Y, dtype: float64"
      ]
     },
     "execution_count": 571,
     "metadata": {},
     "output_type": "execute_result"
    }
   ],
   "source": [
    "corr_matrix = dataset.corr()\n",
    "corr_matrix[\"Y\"].sort_values(ascending=False)"
   ]
  },
  {
   "attachments": {},
   "cell_type": "markdown",
   "metadata": {},
   "source": [
    "### Split the data into train and test sets, for model training and evaluation, respectively"
   ]
  },
  {
   "attachments": {},
   "cell_type": "markdown",
   "metadata": {},
   "source": [
    "### Data preprocessing"
   ]
  },
  {
   "attachments": {},
   "cell_type": "markdown",
   "metadata": {},
   "source": [
    "Feature selection"
   ]
  },
  {
   "cell_type": "code",
   "execution_count": 572,
   "metadata": {},
   "outputs": [
    {
     "name": "stdout",
     "output_type": "stream",
     "text": [
      "(768, 10)\n"
     ]
    }
   ],
   "source": [
    "print(dataset.shape)"
   ]
  },
  {
   "cell_type": "code",
   "execution_count": 573,
   "metadata": {},
   "outputs": [
    {
     "name": "stdout",
     "output_type": "stream",
     "text": [
      "Dropping following labels:  ['X6', 'X8']\n",
      "(768, 10)\n",
      "(768, 8)\n"
     ]
    },
    {
     "name": "stderr",
     "output_type": "stream",
     "text": [
      "/var/folders/yl/xlfszlh139sb6qg5_gn41sdc0000gn/T/ipykernel_73563/1915178434.py:4: FutureWarning: The default value of numeric_only in DataFrame.corr is deprecated. In a future version, it will default to False. Select only valid columns or specify the value of numeric_only to silence this warning.\n",
      "  dataset.corr()[abs(dataset.corr()['Y']) < threshold].index)\n"
     ]
    }
   ],
   "source": [
    "dataset_fs = dataset.copy()\n",
    "def drop_correlation_columns(data, threshold):\n",
    "    features_to_drop = list(\n",
    "        dataset.corr()[abs(dataset.corr()['Y']) < threshold].index)\n",
    "    print('Dropping following labels: ', features_to_drop)\n",
    "    data.drop(features_to_drop, axis=1, inplace=True)\n",
    "    return data\n",
    "\n",
    "dataset_fs = drop_correlation_columns(dataset_fs, 0.25)\n",
    "print(dataset.shape)\n",
    "print(dataset_fs.shape)"
   ]
  },
  {
   "attachments": {},
   "cell_type": "markdown",
   "metadata": {},
   "source": [
    "One hot encoding"
   ]
  },
  {
   "cell_type": "code",
   "execution_count": 574,
   "metadata": {},
   "outputs": [],
   "source": [
    "from sklearn.preprocessing import OneHotEncoder\n",
    "from sklearn.preprocessing import StandardScaler\n",
    "\n",
    "# as already discussed 'x0' is a categorical feature of the dataset, \n",
    "# thus we need to use one-hot encoding to convert the feature into a numerical representation\n",
    "\n",
    "encoder = OneHotEncoder(sparse_output=False)\n",
    "encoder_fs = OneHotEncoder(sparse_output=False)\n",
    "onehot_X0 = encoder.fit_transform(dataset['X0'].values.reshape(-1, 1))\n",
    "onehot_X0_fs = encoder_fs.fit_transform(dataset_fs['X0'].values.reshape(-1, 1))\n",
    "dataset = dataset.drop('X0', axis=1)\n",
    "dataset_fs = dataset_fs.drop('X0', axis=1)\n",
    "dataset = pd.concat([dataset, pd.DataFrame(onehot_X0)], axis=1)\n",
    "dataset_fs = pd.concat([dataset_fs, pd.DataFrame(onehot_X0_fs)], axis=1)"
   ]
  },
  {
   "attachments": {},
   "cell_type": "markdown",
   "metadata": {},
   "source": [
    "Data imputation"
   ]
  },
  {
   "cell_type": "code",
   "execution_count": 575,
   "metadata": {},
   "outputs": [],
   "source": [
    "# 'x3' has missing values, so we need to impute the missing values before we can use it, as already deduced in the notebook\n",
    "# we will use the median value to impute the missing values\n",
    "\n",
    "median_X3 = dataset['X3'].median()\n",
    "median_X3_fs = dataset_fs['X3'].median()\n",
    "dataset['X3'].fillna(median_X3, inplace=True)\n",
    "dataset_fs['X3'].fillna(median_X3_fs, inplace=True)"
   ]
  },
  {
   "attachments": {},
   "cell_type": "markdown",
   "metadata": {},
   "source": [
    "Train test split"
   ]
  },
  {
   "cell_type": "code",
   "execution_count": 576,
   "metadata": {},
   "outputs": [],
   "source": [
    "from sklearn.model_selection import StratifiedShuffleSplit\n",
    "stratified_split = StratifiedShuffleSplit(n_splits=1, test_size=0.3, random_state=42)\n",
    "\n",
    "# split the dataset into train and test sets,\n",
    "# note: we are using X[4] as our target variable, this is the the 'OverallHeight' feature, we stratify based upon this feature, as it has \n",
    "# the highest correlation with the target variable\n",
    "\n",
    "# convert X to a pandas dataframe so we can use the loc function\n",
    "for train_index, test_index in stratified_split.split(dataset, dataset['X5']):\n",
    "    train_set = dataset.loc[train_index]\n",
    "    test_set = dataset.loc[test_index]\n",
    "\n",
    "for train_index, test_index in stratified_split.split(dataset_fs, dataset_fs['X5']):\n",
    "    train_set_fs = dataset_fs.loc[train_index]\n",
    "    test_set_fs = dataset_fs.loc[test_index]"
   ]
  },
  {
   "cell_type": "code",
   "execution_count": 577,
   "metadata": {},
   "outputs": [
    {
     "name": "stdout",
     "output_type": "stream",
     "text": [
      "Index(['X1', 'X2', 'X3', 'X4', 'X5', 'X7', 'Y', 0, 1, 2], dtype='object')\n",
      "Index(['X1', 'X2', 'X3', 'X4', 'X5', 'X7', 'Y', 0, 1, 2], dtype='object')\n"
     ]
    }
   ],
   "source": [
    "print(dataset_fs.columns)\n",
    "print(train_set_fs.columns)"
   ]
  },
  {
   "attachments": {},
   "cell_type": "markdown",
   "metadata": {},
   "source": [
    "Standard scaler"
   ]
  },
  {
   "cell_type": "code",
   "execution_count": 578,
   "metadata": {},
   "outputs": [],
   "source": [
    "# scale the features\n",
    "train_set.columns = train_set.columns.astype(str)\n",
    "test_set.columns = test_set.columns.astype(str)\n",
    "\n",
    "train_set_fs.columns = train_set_fs.columns.astype(str)\n",
    "test_set_fs.columns = test_set_fs.columns.astype(str)\n",
    "\n",
    "train_scaler = StandardScaler()\n",
    "test_scaler = StandardScaler()\n",
    "\n",
    "train_scaler_fs = StandardScaler()\n",
    "test_scaler_fs = StandardScaler()\n",
    "\n",
    "train_set = train_scaler.fit_transform(train_set)\n",
    "test_set = test_scaler.fit_transform(test_set)\n",
    "\n",
    "train_set_fs = train_scaler_fs.fit_transform(train_set_fs)\n",
    "test_set_fs = test_scaler_fs.fit_transform(test_set_fs)"
   ]
  },
  {
   "cell_type": "code",
   "execution_count": 579,
   "metadata": {},
   "outputs": [
    {
     "name": "stdout",
     "output_type": "stream",
     "text": [
      "(537, 12)\n",
      "(231, 12)\n",
      "(537, 10)\n",
      "(231, 10)\n"
     ]
    }
   ],
   "source": [
    "print(train_set.shape)\n",
    "print(test_set.shape)\n",
    "\n",
    "print(train_set_fs.shape)\n",
    "print(test_set_fs.shape)"
   ]
  },
  {
   "attachments": {},
   "cell_type": "markdown",
   "metadata": {},
   "source": [
    "Split X and y"
   ]
  },
  {
   "cell_type": "code",
   "execution_count": 580,
   "metadata": {},
   "outputs": [],
   "source": [
    "X_train = np.delete(train_set, 9, axis=1)\n",
    "y_train = train_set[:, 9]\n",
    "X_test = np.delete(test_set, 9, axis=1)\n",
    "y_test = test_set[:, 9]\n",
    "\n",
    "X_train_fs = np.delete(train_set_fs, 9, axis=1)\n",
    "y_train_fs = train_set_fs[:, 9]\n",
    "X_test_fs = np.delete(test_set_fs, 9, axis=1)\n",
    "y_test_fs = test_set_fs[:, 9]"
   ]
  },
  {
   "attachments": {},
   "cell_type": "markdown",
   "metadata": {},
   "source": [
    "# Instantiating our models"
   ]
  },
  {
   "attachments": {},
   "cell_type": "markdown",
   "metadata": {},
   "source": [
    "Luckily for us, the sklearn API provides a GridSearchCV class, allowing us to iterate through a list of pipelines and models, evaluating their performance against one another, to find the optimal choice for the problem at hand; hyper parameters can also be deliberated upon within this process. Furhtermore, all of the models bar one (Polynomial regression) are already created in the sklearn API, so we can simply instantiate them, and pass them into the grid search."
   ]
  },
  {
   "attachments": {},
   "cell_type": "markdown",
   "metadata": {},
   "source": [
    "### Creating a polynomial regression model with regularisation"
   ]
  },
  {
   "attachments": {},
   "cell_type": "markdown",
   "metadata": {},
   "source": [
    "Unfortunately, unlike all the other models relevant to this analysis, the polynomial regression model isn't implemented within the sk-learn API. So we must create this manually. To ensure this works with the modularity concepts we have put in place elsewhere within the code, the implementation of this model is done so in accordance to the sk-learn pipeline API. This means that the model can be passed into the grid search, and the hyper parameters can be deliberated upon."
   ]
  },
  {
   "cell_type": "code",
   "execution_count": 581,
   "metadata": {},
   "outputs": [],
   "source": [
    "# REWRITE: Note that we import BaseEstimator and RegressorMixin from sklearn.base, and we define PolynomialRegression as \n",
    "# a subclass of both BaseEstimator and RegressorMixin. This allows us to use PolynomialRegression as a fully-fledged estimator \n",
    "# within the sklearn ecosystem.\n",
    "from sklearn.preprocessing import PolynomialFeatures\n",
    "from sklearn.base import BaseEstimator, RegressorMixin\n",
    "from sklearn.linear_model import LinearRegression, Ridge, Lasso, ElasticNet\n",
    "from sklearn.pipeline import Pipeline\n",
    "\n",
    "class PolynomialRegression(BaseEstimator, RegressorMixin):\n",
    "    def __init__(self, degree=2):\n",
    "        self.degree = degree\n",
    "        self.model = Pipeline([\n",
    "            ('poly', PolynomialFeatures(degree=self.degree)),\n",
    "            ('ridge', Ridge(alpha=0.1))\n",
    "        ])\n",
    "    \n",
    "    def fit(self, X, y):\n",
    "        self.model.fit(X, y)\n",
    "    \n",
    "    def predict(self, X):\n",
    "        return self.model.predict(X)\n",
    "    \n",
    "    def score(self, X, y):\n",
    "        return self.model.score(X, y)\n",
    "    \n",
    "    def set_params(self, **params):\n",
    "        for param, value in params.items():\n",
    "            if param.startswith('poly__'):\n",
    "                setattr(self.model.named_steps['poly'], param[len('poly__'):], value)\n",
    "            else:\n",
    "                setattr(self.model, param, value)\n",
    "        return self"
   ]
  },
  {
   "attachments": {},
   "cell_type": "markdown",
   "metadata": {},
   "source": [
    "### Instantiating all other models"
   ]
  },
  {
   "cell_type": "code",
   "execution_count": 582,
   "metadata": {},
   "outputs": [],
   "source": [
    "models = {\n",
    "    'LinearRegression': LinearRegression(),\n",
    "    'Ridge': Ridge(),\n",
    "    'Lasso': Lasso(),\n",
    "    'ElasticNet': ElasticNet(),\n",
    "    'PolynomialRegression': PolynomialRegression()\n",
    "}\n",
    "\n",
    "# we also define a dictionary of hyperparameters to be searched for each respective model,\n",
    "# will be iterated through matching the keys to the models dictionary\n",
    "param_grid = {\n",
    "    'LinearRegression': {},\n",
    "    'Ridge': {'alpha': [0.01, 0.1, 0.5, 1.0, 5.0, 10.0]},\n",
    "    'Lasso': {'alpha': [0.01, 0.1, 0.5, 1.0, 5.0, 10.0]},\n",
    "    'ElasticNet': {'alpha': [0.01, 0.1, 0.5, 1.0, 5.0, 10.0], 'l1_ratio': [0.1, 0.5, 0.9, 1.0]},\n",
    "    'PolynomialRegression': {'polynomialfeatures__degree': [2, 3, 4, 5], 'ridge__alpha': [0.01, 0.1, 0.5, 1.0, 5.0, 10.0]}\n",
    "}"
   ]
  },
  {
   "attachments": {},
   "cell_type": "markdown",
   "metadata": {},
   "source": [
    "### Perform grid search and save results"
   ]
  },
  {
   "cell_type": "code",
   "execution_count": 583,
   "metadata": {},
   "outputs": [
    {
     "name": "stdout",
     "output_type": "stream",
     "text": [
      "(537, 11)\n",
      "(537, 9)\n"
     ]
    }
   ],
   "source": [
    "print(X_train.shape)\n",
    "print(X_train_fs.shape)"
   ]
  },
  {
   "cell_type": "code",
   "execution_count": 584,
   "metadata": {},
   "outputs": [],
   "source": [
    "from sklearn.model_selection import GridSearchCV\n",
    "trained_models = {}\n",
    "param_results = {}\n",
    "results = []\n",
    "\n",
    "\n",
    "for model_name, model in models.items():\n",
    "    params = param_grid[model_name]\n",
    "    grid_search = GridSearchCV(\n",
    "        model, params, scoring='neg_mean_absolute_percentage_error', cv=5, n_jobs=1)\n",
    "    grid_search_fs = GridSearchCV(\n",
    "        model, params, scoring='neg_mean_absolute_percentage_error', cv=5, n_jobs=1)\n",
    "    grid_search.fit(X_train, y_train)\n",
    "    grid_search_fs.fit(X_train_fs, y_train_fs)\n",
    "    trained_models[model_name] = grid_search.best_estimator_\n",
    "    trained_models[model_name + '_fs'] = grid_search_fs.best_estimator_\n",
    "    param_results[model_name] = grid_search.best_params_\n",
    "    param_results[model_name + '_fs'] = grid_search_fs.best_params_\n",
    "    results.append({\n",
    "        'model': model_name,\n",
    "        'best_score': grid_search.best_score_,\n",
    "        'best_params': grid_search.best_params_,\n",
    "    })\n",
    "    results.append({\n",
    "        'model': model_name + '_fs',\n",
    "        'best_score': grid_search_fs.best_score_,\n",
    "        'best_params': grid_search_fs.best_params_\n",
    "    })\n"
   ]
  },
  {
   "cell_type": "code",
   "execution_count": 585,
   "metadata": {},
   "outputs": [
    {
     "data": {
      "text/html": [
       "<div>\n",
       "<style scoped>\n",
       "    .dataframe tbody tr th:only-of-type {\n",
       "        vertical-align: middle;\n",
       "    }\n",
       "\n",
       "    .dataframe tbody tr th {\n",
       "        vertical-align: top;\n",
       "    }\n",
       "\n",
       "    .dataframe thead th {\n",
       "        text-align: right;\n",
       "    }\n",
       "</style>\n",
       "<table border=\"1\" class=\"dataframe\">\n",
       "  <thead>\n",
       "    <tr style=\"text-align: right;\">\n",
       "      <th></th>\n",
       "      <th>model</th>\n",
       "      <th>best_score</th>\n",
       "      <th>best_params</th>\n",
       "    </tr>\n",
       "  </thead>\n",
       "  <tbody>\n",
       "    <tr>\n",
       "      <th>0</th>\n",
       "      <td>LinearRegression</td>\n",
       "      <td>-8.422840e-16</td>\n",
       "      <td>{}</td>\n",
       "    </tr>\n",
       "    <tr>\n",
       "      <th>1</th>\n",
       "      <td>LinearRegression_fs</td>\n",
       "      <td>-9.138807e-16</td>\n",
       "      <td>{}</td>\n",
       "    </tr>\n",
       "    <tr>\n",
       "      <th>2</th>\n",
       "      <td>Ridge_fs</td>\n",
       "      <td>-4.756288e-05</td>\n",
       "      <td>{'alpha': 0.01}</td>\n",
       "    </tr>\n",
       "    <tr>\n",
       "      <th>3</th>\n",
       "      <td>Ridge</td>\n",
       "      <td>-4.868050e-05</td>\n",
       "      <td>{'alpha': 0.01}</td>\n",
       "    </tr>\n",
       "    <tr>\n",
       "      <th>4</th>\n",
       "      <td>PolynomialRegression_fs</td>\n",
       "      <td>-2.108612e-04</td>\n",
       "      <td>{'polynomialfeatures__degree': 2, 'ridge__alph...</td>\n",
       "    </tr>\n",
       "    <tr>\n",
       "      <th>5</th>\n",
       "      <td>PolynomialRegression</td>\n",
       "      <td>-2.426127e-04</td>\n",
       "      <td>{'polynomialfeatures__degree': 2, 'ridge__alph...</td>\n",
       "    </tr>\n",
       "    <tr>\n",
       "      <th>6</th>\n",
       "      <td>ElasticNet_fs</td>\n",
       "      <td>-1.986714e-02</td>\n",
       "      <td>{'alpha': 0.01, 'l1_ratio': 0.1}</td>\n",
       "    </tr>\n",
       "    <tr>\n",
       "      <th>7</th>\n",
       "      <td>Lasso_fs</td>\n",
       "      <td>-2.013232e-02</td>\n",
       "      <td>{'alpha': 0.01}</td>\n",
       "    </tr>\n",
       "    <tr>\n",
       "      <th>8</th>\n",
       "      <td>ElasticNet</td>\n",
       "      <td>-2.033074e-02</td>\n",
       "      <td>{'alpha': 0.01, 'l1_ratio': 0.1}</td>\n",
       "    </tr>\n",
       "    <tr>\n",
       "      <th>9</th>\n",
       "      <td>Lasso</td>\n",
       "      <td>-2.044361e-02</td>\n",
       "      <td>{'alpha': 0.01}</td>\n",
       "    </tr>\n",
       "  </tbody>\n",
       "</table>\n",
       "</div>"
      ],
      "text/plain": [
       "                     model    best_score  \\\n",
       "0         LinearRegression -8.422840e-16   \n",
       "1      LinearRegression_fs -9.138807e-16   \n",
       "2                 Ridge_fs -4.756288e-05   \n",
       "3                    Ridge -4.868050e-05   \n",
       "4  PolynomialRegression_fs -2.108612e-04   \n",
       "5     PolynomialRegression -2.426127e-04   \n",
       "6            ElasticNet_fs -1.986714e-02   \n",
       "7                 Lasso_fs -2.013232e-02   \n",
       "8               ElasticNet -2.033074e-02   \n",
       "9                    Lasso -2.044361e-02   \n",
       "\n",
       "                                         best_params  \n",
       "0                                                 {}  \n",
       "1                                                 {}  \n",
       "2                                    {'alpha': 0.01}  \n",
       "3                                    {'alpha': 0.01}  \n",
       "4  {'polynomialfeatures__degree': 2, 'ridge__alph...  \n",
       "5  {'polynomialfeatures__degree': 2, 'ridge__alph...  \n",
       "6                   {'alpha': 0.01, 'l1_ratio': 0.1}  \n",
       "7                                    {'alpha': 0.01}  \n",
       "8                   {'alpha': 0.01, 'l1_ratio': 0.1}  \n",
       "9                                    {'alpha': 0.01}  "
      ]
     },
     "execution_count": 585,
     "metadata": {},
     "output_type": "execute_result"
    }
   ],
   "source": [
    "results_df = pd.DataFrame(results)\n",
    "results_df = results_df.sort_values(by=['best_score'], ascending=False)\n",
    "results_df = results_df.reset_index(drop=True)\n",
    "results_df"
   ]
  },
  {
   "attachments": {},
   "cell_type": "markdown",
   "metadata": {},
   "source": [
    "### Evaluate on the two best models"
   ]
  },
  {
   "cell_type": "code",
   "execution_count": 586,
   "metadata": {},
   "outputs": [
    {
     "data": {
      "text/plain": [
       "0.9981573907452783"
      ]
     },
     "execution_count": 586,
     "metadata": {},
     "output_type": "execute_result"
    }
   ],
   "source": [
    "trained_models['Lasso'].set_params(**param_results['Lasso']).score(X_test, y_test)"
   ]
  },
  {
   "cell_type": "code",
   "execution_count": 587,
   "metadata": {},
   "outputs": [
    {
     "data": {
      "text/plain": [
       "0.9981620374030648"
      ]
     },
     "execution_count": 587,
     "metadata": {},
     "output_type": "execute_result"
    }
   ],
   "source": [
    "trained_models['ElasticNet'].set_params(**param_results['ElasticNet']).score(X_test, y_test)"
   ]
  },
  {
   "cell_type": "code",
   "execution_count": null,
   "metadata": {},
   "outputs": [],
   "source": []
  }
 ],
 "metadata": {
  "kernelspec": {
   "display_name": "mlenv",
   "language": "python",
   "name": "python3"
  },
  "language_info": {
   "codemirror_mode": {
    "name": "ipython",
    "version": 3
   },
   "file_extension": ".py",
   "mimetype": "text/x-python",
   "name": "python",
   "nbconvert_exporter": "python",
   "pygments_lexer": "ipython3",
   "version": "3.10.9"
  },
  "orig_nbformat": 4
 },
 "nbformat": 4,
 "nbformat_minor": 2
}
