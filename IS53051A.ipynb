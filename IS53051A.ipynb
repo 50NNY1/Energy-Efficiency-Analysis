{
 "cells": [
  {
   "attachments": {},
   "cell_type": "markdown",
   "metadata": {},
   "source": [
    "# IS53051A Machine Learning Assignment\n",
    "### Jake Tyler [student number] & Sonny Holland [student number]"
   ]
  },
  {
   "cell_type": "markdown",
   "metadata": {},
   "source": [
    "# Setting up our notebook\n"
   ]
  },
  {
   "cell_type": "markdown",
   "metadata": {},
   "source": [
    "### Importing libraries"
   ]
  },
  {
   "cell_type": "code",
   "execution_count": 499,
   "metadata": {},
   "outputs": [],
   "source": [
    "import pandas as pd\n",
    "import matplotlib.pyplot as plt\n",
    "import numpy as np\n",
    "import sklearn as sk"
   ]
  },
  {
   "cell_type": "markdown",
   "metadata": {},
   "source": [
    "### Importing the dataset"
   ]
  },
  {
   "cell_type": "code",
   "execution_count": 500,
   "metadata": {},
   "outputs": [],
   "source": [
    "dataset = pd.read_csv('datcw_na.csv')"
   ]
  },
  {
   "cell_type": "markdown",
   "metadata": {},
   "source": [
    "# Data inspection and Visualisations"
   ]
  },
  {
   "attachments": {},
   "cell_type": "markdown",
   "metadata": {},
   "source": [
    "### Data inspection\n",
    "\n",
    "First we take a brief look at our dataset:"
   ]
  },
  {
   "cell_type": "code",
   "execution_count": 501,
   "metadata": {},
   "outputs": [
    {
     "name": "stdout",
     "output_type": "stream",
     "text": [
      "   X0    X1      X2      X3      X4    X5    X6   X7   X8      Y\n",
      "0  C3  1.19  622.55     NaN   89.31  7.00  1.98  0.0  0.0  15.55\n",
      "1  C1  1.19  622.55  323.40  109.15  7.70  3.00  0.0  0.0  15.55\n",
      "2  C1  0.88  463.05  291.06   99.23  5.67  4.40  0.0  0.0  15.55\n",
      "3  C2  0.79  509.36  291.06  121.28  6.30  4.05  0.0  0.0  15.55\n",
      "4  C1  0.89  507.15  385.39  121.28  7.70  2.00  0.0  0.0  20.84 \n",
      "\n",
      "<class 'pandas.core.frame.DataFrame'>\n",
      "RangeIndex: 768 entries, 0 to 767\n",
      "Data columns (total 10 columns):\n",
      " #   Column  Non-Null Count  Dtype  \n",
      "---  ------  --------------  -----  \n",
      " 0   X0      768 non-null    object \n",
      " 1   X1      768 non-null    float64\n",
      " 2   X2      768 non-null    float64\n",
      " 3   X3      728 non-null    float64\n",
      " 4   X4      768 non-null    float64\n",
      " 5   X5      768 non-null    float64\n",
      " 6   X6      768 non-null    float64\n",
      " 7   X7      768 non-null    float64\n",
      " 8   X8      768 non-null    float64\n",
      " 9   Y       768 non-null    float64\n",
      "dtypes: float64(9), object(1)\n",
      "memory usage: 60.1+ KB\n",
      "None\n"
     ]
    }
   ],
   "source": [
    "print(dataset.head(), \"\\n\")\n",
    "print(dataset.info())"
   ]
  },
  {
   "attachments": {},
   "cell_type": "markdown",
   "metadata": {},
   "source": [
    "### column 'X3' has missing values and column 'X0' is non-numerical,\n",
    "\n",
    "We can determine that column 'X3' has 768 entries. Additionally, using the .isna().sum() method we can identify that 40 values are missing from these entries:"
   ]
  },
  {
   "cell_type": "code",
   "execution_count": 502,
   "metadata": {},
   "outputs": [
    {
     "name": "stdout",
     "output_type": "stream",
     "text": [
      "X3 number of entries: 768\n",
      "X3 missing values: 40\n"
     ]
    }
   ],
   "source": [
    "print(\"X3 number of entries:\", dataset[\"X3\"].size)\n",
    "print(\"X3 missing values:\", dataset['X3'].isna().sum())"
   ]
  },
  {
   "attachments": {},
   "cell_type": "markdown",
   "metadata": {},
   "source": [
    "Here we can determine that 'X0' is a nominal/categorical variable. The value_counts() method also provides the elements in descending order, starting with the most frequently occurring one:"
   ]
  },
  {
   "cell_type": "code",
   "execution_count": 503,
   "metadata": {},
   "outputs": [
    {
     "name": "stdout",
     "output_type": "stream",
     "text": [
      "X0 value counts:\n",
      "C2    265\n",
      "C3    260\n",
      "C1    243\n",
      "Name: X0, dtype: int64\n"
     ]
    }
   ],
   "source": [
    "print(\"X0 value counts:\")\n",
    "print(dataset[\"X0\"].value_counts())"
   ]
  },
  {
   "attachments": {},
   "cell_type": "markdown",
   "metadata": {},
   "source": [
    "### assessing options for handling missing values in our dataset before pre-processing,\n",
    "\n",
    "If the amount of missing data is small and randomly distributed, it may be appropriate to replace missing values with the mean of the non-missing values. This can preserve the overall distribution of the data and prevent the loss of valuable information. \n",
    "\n",
    "If the missing data is large or non-random, it may be better to drop the missing values altogether. This can help prevent the introduction of bias into the analysis and reduce the risk of making incorrect predictions. However, dropping missing values can also result in a loss of information and reduce the sample size, potentially reducing the accuracy of the model.\n",
    "\n",
    "Here, we can perform some basic forms of analysis to investigate whether the missing data is small and randomly distributed:"
   ]
  },
  {
   "attachments": {},
   "cell_type": "markdown",
   "metadata": {},
   "source": [
    "### percentage of missing data"
   ]
  },
  {
   "cell_type": "code",
   "execution_count": 504,
   "metadata": {},
   "outputs": [
    {
     "name": "stdout",
     "output_type": "stream",
     "text": [
      "percentage of missing values:\n",
      "X0    0.000000\n",
      "X1    0.000000\n",
      "X2    0.000000\n",
      "X3    0.052083\n",
      "X4    0.000000\n",
      "X5    0.000000\n",
      "X6    0.000000\n",
      "X7    0.000000\n",
      "X8    0.000000\n",
      "Y     0.000000\n",
      "dtype: float64 \n",
      "\n"
     ]
    }
   ],
   "source": [
    "print(\"percentage of missing values:\")\n",
    "print(dataset.isna().sum() / dataset.shape[0], \"\\n\")"
   ]
  },
  {
   "attachments": {},
   "cell_type": "markdown",
   "metadata": {},
   "source": [
    "Since the percentage of missing values is less than 5% for all columns, it seems reasonable to assume that the missing values are small. While the 'X3' column has the highest percentage of missing values and exceeds the 5% threshold, the difference is small enough to still consider it small. However, it's important to note that the missing data may still have an impact on the analysis, and a decision has not been made on how to handle it.\n",
    "\n",
    "To determine if the missing data should be kept or not, we will need to examine its correlations with the target variable.\n",
    "\n",
    "Additionally, we may need to perform a sensitivity analysis to assess if the results are affected by the missing data."
   ]
  },
  {
   "attachments": {},
   "cell_type": "markdown",
   "metadata": {},
   "source": [
    "### distribution of data\n",
    "\n",
    "To understand the distribution of the non-missing values, we can use a histogram to gain some visual insights:"
   ]
  },
  {
   "cell_type": "code",
   "execution_count": 505,
   "metadata": {},
   "outputs": [
    {
     "data": {
      "image/png": "[encoded data removed]",
      "text/plain": [
       "<Figure size 640x480 with 1 Axes>"
      ]
     },
     "metadata": {},
     "output_type": "display_data"
    }
   ],
   "source": [
    "plt.hist(dataset['X3'], bins=20)\n",
    "plt.xlabel('X3 values')\n",
    "plt.ylabel('Frequency')\n",
    "plt.show()"
   ]
  },
  {
   "attachments": {},
   "cell_type": "markdown",
   "metadata": {},
   "source": [
    "### generate a example datasets for visual comparison,\n",
    "\n",
    "we can examine whether the above histogram is random or non-random with a comparison against some example histograms below:"
   ]
  },
  {
   "attachments": {},
   "cell_type": "markdown",
   "metadata": {},
   "source": [
    "random dataset example:"
   ]
  },
  {
   "cell_type": "code",
   "execution_count": 506,
   "metadata": {},
   "outputs": [
    {
     "data": {
      "image/png": "[encoded data removed]",
      "text/plain": [
       "<Figure size 640x480 with 1 Axes>"
      ]
     },
     "metadata": {},
     "output_type": "display_data"
    }
   ],
   "source": [
    "data = np.random.randn(100)\n",
    "plt.hist(data, bins=20)\n",
    "plt.show()"
   ]
  },
  {
   "attachments": {},
   "cell_type": "markdown",
   "metadata": {},
   "source": [
    "non-random dataset example:"
   ]
  },
  {
   "cell_type": "code",
   "execution_count": 507,
   "metadata": {},
   "outputs": [
    {
     "data": {
      "image/png": "[encoded data removed]",
      "text/plain": [
       "<Figure size 640x480 with 1 Axes>"
      ]
     },
     "metadata": {},
     "output_type": "display_data"
    }
   ],
   "source": [
    "data = np.random.normal(0, 1, 100) ** 3\n",
    "plt.hist(data, bins=20)\n",
    "plt.show()"
   ]
  },
  {
   "attachments": {},
   "cell_type": "markdown",
   "metadata": {},
   "source": [
    "from the above examples we can determine that the missing values in column X3 are small and randomly distributed, we can consider imputing the missing values with a reasonable method, such as mean imputation or interpolation, to fill in the gaps in the data.\n",
    "\n",
    "Before deciding on an imputation method, it would be a good idea to analyze the relationship between X3 and the target variable to see if the missing values have a significant impact on the results. You can use correlation analysis or other statistical methods to determine the impact of missing values.\n"
   ]
  },
  {
   "attachments": {},
   "cell_type": "markdown",
   "metadata": {},
   "source": [
    "### assessing options for handling categorical data in our dataset before pre-processing,\n",
    "\n",
    "There are several techniques to handle categorical data, including:\n",
    "\n",
    "* Label encoding: In this technique, each category is assigned a unique numerical value. For example, if we have a categorical feature \"color\" with values \"red\", \"green\", and \"blue\", we can assign them numerical values 1, 2, and 3, respectively. Label encoding is simple to implement but can be problematic if the numerical values imply an ordering or magnitude that does not exist in the categorical feature.\n",
    "\n",
    "* One-hot encoding: In this technique, a new binary column is created for each category in the categorical feature. Each row in the dataset is assigned a 1 in the corresponding category column and 0 in all other category columns. For example, if we have a categorical feature \"color\" with values \"red\", \"green\", and \"blue\", we can create three new columns \"color_red\", \"color_green\", and \"color_blue\" and assign binary values based on the presence or absence of each category in each row.\n",
    "\n",
    "* Binary encoding: This technique is similar to one-hot encoding, but it reduces the number of columns required to represent categorical data. In binary encoding, the categories are first encoded as integers and then converted to binary code. For example, if we have a categorical feature \"color\" with values \"red\", \"green\", and \"blue\", we can first assign them numerical values 1, 2, and 3, respectively, and then convert them to binary code 001, 010, and 100, respectively.\n",
    "\n",
    "* Count encoding: In this technique, each category is replaced with the count of the number of times it appears in the dataset. This technique can be useful if the frequency of occurrence of each category is important for the analysis.\n",
    "\n",
    "* Target encoding: In this technique, each category is replaced with the mean of the target variable for that category. This technique can be useful for classification problems where the target variable is a categorical variable.\n",
    "\n",
    "Overall, the appropriate technique to use for handling categorical data depends on the specifics of your problem, the number of categories, and the type of machine learning algorithm being used. It is important to experiment with different techniques and evaluate their performance on the problem at hand.\n"
   ]
  },
  {
   "attachments": {},
   "cell_type": "markdown",
   "metadata": {},
   "source": [
    " Now that you know which columns have missing values, you can choose how to handle them.\n",
    " Some common techniques for handling missing values include:\n",
    " Dropping rows or columns with missing values\n",
    " Filling missing values with a fixed value (e.g., 0, mean, median)\n",
    " Using an imputation method to predict missing values based on other variables in the dataset\n",
    " The choice of technique will depend on the specific requirements of your machine learning problem\n",
    " and the characteristics of your dataset.\n",
    " Some common techniques for handling missing values include:\n",
    " - Dropping rows or columns with missing values\n",
    " - Filling missing values with a fixed value (e.g., 0, mean, median)\n",
    " - Using an imputation method to predict missing values based on other variables in the dataset\n",
    " here are some questions that can help you choose an appropriate technique for handling missing values:\n",
    " - How many missing values do you have in each column? If a column has a large percentage of missing values,\n",
    " it might be better to drop that column altogether, rather than trying to fill in the missing values.\n",
    " - What is the nature of the missing values in your dataset? Are they missing at random (MAR),\n",
    " missing completely at random (MCAR), or missing not at random (MNAR)? This can help you decide which \n",
    " imputation method to use.\n",
    " - Are there any correlations between the missing values and other variables in the dataset? If so,\n",
    " you might be able to use these correlations to impute the missing values.\n",
    " - What type of data is in the column with missing values? If it's categorical data,\n",
    " you might use a mode imputation technique, where you fill in missing values with the most common\n",
    " value in the column. If it's continuous data, you might use mean, median or other statistical\n",
    " imputation techniques.\n",
    " - What is the impact of removing or imputing missing values on your machine learning model?\n",
    " Depending on your dataset and your model, removing or imputing missing values might improve or\n",
    " degrade the performance of your model."
   ]
  },
  {
   "attachments": {},
   "cell_type": "markdown",
   "metadata": {},
   "source": [
    " WE CAN CHECK THE CORRELATIONS BETWEEN THE MISSING VALUES AND OTHER VARIABLES IN THE DATASET\n",
    " USING THE CORRELATION MATRIX"
   ]
  },
  {
   "cell_type": "code",
   "execution_count": 508,
   "metadata": {},
   "outputs": [
    {
     "name": "stderr",
     "output_type": "stream",
     "text": [
      "/var/folders/yl/xlfszlh139sb6qg5_gn41sdc0000gn/T/ipykernel_24231/3756635859.py:2: FutureWarning: The default value of numeric_only in DataFrame.corr is deprecated. In a future version, it will default to False. Select only valid columns or specify the value of numeric_only to silence this warning.\n",
      "  corr_matrix = dataset.corr()\n"
     ]
    },
    {
     "data": {
      "text/plain": [
       "Y     1.000000\n",
       "X5    0.815769\n",
       "X1    0.454177\n",
       "X3    0.312449\n",
       "X7    0.255901\n",
       "X8    0.087106\n",
       "X6    0.001340\n",
       "X2   -0.481192\n",
       "X4   -0.771040\n",
       "Name: Y, dtype: float64"
      ]
     },
     "execution_count": 508,
     "metadata": {},
     "output_type": "execute_result"
    }
   ],
   "source": [
    "# create a correlation matrix\n",
    "corr_matrix = dataset.corr()\n",
    "corr_matrix[\"Y\"].sort_values(ascending=False)"
   ]
  },
  {
   "attachments": {},
   "cell_type": "markdown",
   "metadata": {},
   "source": [
    "Based on the information provided, it seems reasonable to replace the missing values in column\n",
    "X3 with the mean value, as the percentage of missing values is relatively low (5.2%).\n",
    "Additionally, X3 appears to have a moderate positive correlation with the target variable Y\n",
    "(correlation coefficient of 0.31), indicating that it may be a useful feature in predicting Y\n",
    "However, before deciding to replace missing values with the mean, it's important to consider the\n",
    "nature of the data and the potential impact of imputing missing values on the analysis results.\n",
    "For instance, if X3 has a significant number of extreme values or outliers, then the mean may\n",
    "not be a representative measure of central tendency, and imputing missing values with the mean\n",
    "could distort the distribution of the data\n",
    "Therefore, it's important to carefully evaluate the data and consider other imputation methods,\n",
    "such as using a regression model to predict missing values based on the values of other variables,\n",
    "if appropriate\n",
    "However, it's important to note that the impact of the missing values on the analysis results\n",
    "should be carefully evaluated. If the missing values are not missing at random, and there is\n",
    "a systematic difference between the missing and non-missing values, then replacing the missing\n",
    "values with the mean may introduce bias into the analysis results\n",
    "Therefore, it's important to consider other imputati# on methods and conduct sensitivity analyses\n",
    "to evaluate the impact of missing values on the analysis results.\n"
   ]
  },
  {
   "attachments": {},
   "cell_type": "markdown",
   "metadata": {},
   "source": [
    "sensitivty analysis...?????\n",
    "No, this code is not a sensitivity analysis. It is comparing the correlations\n",
    "between X3 and Y with mean imputation and random drop with mean imputation.\n",
    "A sensitivity analysis involves systematically varying the values of one or more\n",
    "input variables and observing the effect on the output variable(s) to determine\n",
    "the sensitivity of the model to changes in those input variables."
   ]
  },
  {
   "cell_type": "code",
   "execution_count": 509,
   "metadata": {},
   "outputs": [
    {
     "name": "stdout",
     "output_type": "stream",
     "text": [
      "Correlation between X3 and Y with mean imputation: 0.305\n",
      "Correlation between X3 and Y with random drop and mean imputation: 0.304\n",
      "Correlation between X3 and Y with median imputation: 0.306\n",
      "Correlation between X3 and Y with random drop and median imputation: 0.308\n"
     ]
    }
   ],
   "source": [
    "# instantiate multiple copies of the dataset to trial different means of imputation\n",
    "dataset_for_mean = dataset.copy()\n",
    "dataset_for_median = dataset.copy()\n",
    "dataset_for_random_drop_mean = dataset.copy()\n",
    "\n",
    "# Calculate the percentage of missing values in X3\n",
    "missing_X3 = dataset_for_random_drop_mean['X3'].isna().mean()\n",
    "\n",
    "# Replace missing values in column X3 with the mean value, and the other copy with the median value\n",
    "median_X3 = dataset_for_median['X3'].median()\n",
    "mean_X3 = dataset_for_mean['X3'].mean()\n",
    "dataset_for_mean['X3'].fillna(mean_X3, inplace=True)\n",
    "dataset_for_median['X3'].fillna(median_X3, inplace=True)\n",
    "\n",
    "# Calculate the correlation between X3 and Y for the mean imputed dataset\n",
    "correlation_with_mean = dataset_for_mean[['X3', 'Y']].corr().loc['X3', 'Y']\n",
    "\n",
    "# Calculate the correlation between X3 and Y for the median imputed dataset\n",
    "correlation_with_median = dataset_for_median[['X3', 'Y']].corr().loc['X3', 'Y']\n",
    "\n",
    "# Create a copy of the dataset with randomly dropped values in X3\n",
    "dataset_for_random_drop_mean['X3'] = dataset_for_random_drop_mean['X3'].apply(lambda x: np.nan if np.random.rand() < missing_X3 else x)\n",
    "\n",
    "# Replace missing values in the random_drop dataset with the mean value\n",
    "dataset_for_random_drop_mean['X3'].fillna(mean_X3, inplace=True)\n",
    "\n",
    "# Replace missing values in the random_drop dataset with the median value\n",
    "dataset_for_random_drop_mean['X3'].fillna(median_X3, inplace=True)\n",
    "\n",
    "# Calculate the correlation between X3 and Y in the random_drop dataset\n",
    "correlation_with_random_drop = dataset_for_random_drop_mean[['X3', 'Y']].corr().loc['X3', 'Y']\n",
    "\n",
    "# Create a copy of the dataset with randomly dropped values in X3 and median imputation\n",
    "dataset_for_random_drop_median = dataset.copy()\n",
    "dataset_for_random_drop_median['X3'] = dataset_for_random_drop_median['X3'].apply(lambda x: np.nan if np.random.rand() < missing_X3 else x)\n",
    "dataset_for_random_drop_median['X3'].fillna(median_X3, inplace=True)\n",
    "\n",
    "# Calculate the correlation between X3 and Y in the random_drop and median imputed dataset\n",
    "correlation_with_random_drop_median = dataset_for_random_drop_median[['X3', 'Y']].corr().loc['X3', 'Y']\n",
    "\n",
    "# Print the correlation results\n",
    "print(f\"Correlation between X3 and Y with mean imputation: {correlation_with_mean:.3f}\")\n",
    "print(f\"Correlation between X3 and Y with random drop and mean imputation: {correlation_with_random_drop:.3f}\")\n",
    "print(f\"Correlation between X3 and Y with median imputation: {correlation_with_median:.3f}\")\n",
    "print(f\"Correlation between X3 and Y with random drop and median imputation: {correlation_with_random_drop_median:.3f}\")"
   ]
  },
  {
   "attachments": {},
   "cell_type": "markdown",
   "metadata": {},
   "source": [
    "SONNYS BIT: the preceeding code suggests that our choice of imputation has very little affect on the ecology of the dataset, one would expect the use of dropping random values would have a greater impact on the correlation between X3 and Y albeit a negative one, given the ham-fisted nature of this method. For the sake of this exercise we will proceed with the median imputation method. But in other cases it may be worth exploring other means of imputation, such as regression imputation or multiple imputation, to see if they produce more robust results. Alternatively, you may want to consider using analysis methods that are more tolerant to missing data, such as bootstrapping or Bayesian analysis.\n",
    "\n",
    "\n",
    "The correlation between X3 and Y with mean imputation is 0.305 and the correlation between X3 and Y with \n",
    "random drop and mean imputation is 0.286\n",
    "This suggests that imputing missing values in X3 with the mean value has a small positive impact on \n",
    "the correlation between X3 and Y, indicating that there is a weak positive linear relationship between \n",
    "the two variables. However, the difference between the two correlation values is relatively small,\n",
    "suggesting that the choice of imputation method may not have a significant impact on the analysis\n",
    "Based on these results, you can conclude that the two imputation methods produce similar results,\n",
    "but there may be some variability due to missing data. You may then want to explore other\n",
    "imputation methods, such as regression imputation or multiple imputation, to see if they\n",
    "produce more robust results. Alternatively, you may want to consider using analysis methods \n",
    "that are more tolerant to missing data, such as bootstrapping or Bayesian analysis."
   ]
  },
  {
   "cell_type": "markdown",
   "metadata": {},
   "source": [
    "# Data preprocessing including data splitting in 70% training data, and 30% test data"
   ]
  },
  {
   "attachments": {},
   "cell_type": "markdown",
   "metadata": {},
   "source": [
    "### Split the data into train and test sets, for model training and evaluation, respectively"
   ]
  },
  {
   "attachments": {},
   "cell_type": "markdown",
   "metadata": {},
   "source": [
    "It may seem counterintuitive to split the data into train and test sets before performing any data preprocessing, however we do this to ensure our `y` variable is shuffled in accordance to the stratification we perform in the proceeding cell"
   ]
  },
  {
   "cell_type": "code",
   "execution_count": 510,
   "metadata": {},
   "outputs": [],
   "source": [
    "from sklearn.model_selection import StratifiedShuffleSplit\n",
    "stratified_split = StratifiedShuffleSplit(n_splits=1, test_size=0.3, random_state=42)\n",
    "\n",
    "# split the dataset into train and test sets,\n",
    "# note: we are using X[4] as our target variable, this is the the 'OverallHeight' feature, we stratify based upon this feature, as it has \n",
    "# the highest correlation with the target variable\n",
    "\n",
    "# convert X to a pandas dataframe so we can use the loc function\n",
    "for train_index, test_index in stratified_split.split(dataset, dataset['X5']):\n",
    "    train_set = dataset.loc[train_index]\n",
    "    test_set = dataset.loc[test_index]"
   ]
  },
  {
   "cell_type": "code",
   "execution_count": 511,
   "metadata": {},
   "outputs": [
    {
     "name": "stdout",
     "output_type": "stream",
     "text": [
      "[[ 2.90130707 -0.36609793 -0.09313024 ... -0.68033605 -0.72583674\n",
      "   1.39780047]\n",
      " [ 2.90130707 -0.36609793  0.04415196 ...  1.46986184 -0.72583674\n",
      "  -0.71540969]\n",
      " [ 0.79242514 -1.68663034 -0.50531663 ...  1.46986184 -0.72583674\n",
      "  -0.71540969]\n",
      " ...\n",
      " [-0.56814385  1.84279265  1.41782342 ...  1.46986184 -0.72583674\n",
      "  -0.71540969]\n",
      " [-1.79265593 -0.09843139  0.73090274 ... -0.68033605 -0.72583674\n",
      "   1.39780047]\n",
      " [-1.79265593  1.10652339  1.41782342 ... -0.68033605 -0.72583674\n",
      "   1.39780047]] \n",
      "\n",
      "0      15.55\n",
      "1      15.55\n",
      "2      15.55\n",
      "3      15.55\n",
      "4      20.84\n",
      "       ...  \n",
      "763    17.88\n",
      "764    16.54\n",
      "765    16.44\n",
      "766    16.48\n",
      "767    16.64\n",
      "Name: Y, Length: 768, dtype: float64\n"
     ]
    }
   ],
   "source": [
    "from sklearn.preprocessing import OneHotEncoder\n",
    "from sklearn.preprocessing import StandardScaler\n",
    "\n",
    "# as already discussed 'x0' is a categorical feature of the dataset, \n",
    "# thus we need to use one-hot encoding to convert the feature into a numerical representation\n",
    "encoder = OneHotEncoder(sparse_output=False)\n",
    "X0_1HOT = encoder.fit_transform(dataset[\"X0\"].values.reshape(-1,1))\n",
    "\n",
    "# drop the original 'x0' feature and add the one-hot encoded features to the dataset\n",
    "dataset = dataset.drop('X0', axis=1)\n",
    "dataset = pd.concat([dataset, pd.DataFrame(X0_1HOT)], axis=1)\n",
    "\n",
    "# 'x3' has missing values, so we need to impute the missing values before we can use it, as already deduced in the notebook\n",
    "# we will use the median value to impute the missing values\n",
    "dataset['X3'].fillna(dataset['X3'].median(), inplace=True)\n",
    "\n",
    "# prior to scaling the features, we need to split the our x and y variables\n",
    "X = dataset.drop('Y', axis=1)\n",
    "y = dataset['Y']\n",
    "\n",
    "# scale the features\n",
    "X.columns = X.columns.astype(str)\n",
    "scaler = StandardScaler()\n",
    "X = scaler.fit_transform(X)\n",
    "\n",
    "print(X, \"\\n\")\n",
    "print(y)"
   ]
  },
  {
   "cell_type": "code",
   "execution_count": 512,
   "metadata": {},
   "outputs": [
    {
     "data": {
      "text/html": [
       "<div>\n",
       "<style scoped>\n",
       "    .dataframe tbody tr th:only-of-type {\n",
       "        vertical-align: middle;\n",
       "    }\n",
       "\n",
       "    .dataframe tbody tr th {\n",
       "        vertical-align: top;\n",
       "    }\n",
       "\n",
       "    .dataframe thead th {\n",
       "        text-align: right;\n",
       "    }\n",
       "</style>\n",
       "<table border=\"1\" class=\"dataframe\">\n",
       "  <thead>\n",
       "    <tr style=\"text-align: right;\">\n",
       "      <th></th>\n",
       "      <th>Compactness</th>\n",
       "      <th>SurfaceArea</th>\n",
       "      <th>WallArea</th>\n",
       "      <th>RoofArea</th>\n",
       "      <th>OverallHeight</th>\n",
       "      <th>Orientation</th>\n",
       "      <th>GlazingArea</th>\n",
       "      <th>GlazingAreaDistribution</th>\n",
       "      <th>HeatingLoad</th>\n",
       "      <th>C1</th>\n",
       "      <th>C2</th>\n",
       "      <th>C3</th>\n",
       "    </tr>\n",
       "  </thead>\n",
       "  <tbody>\n",
       "    <tr>\n",
       "      <th>0</th>\n",
       "      <td>1.19</td>\n",
       "      <td>622.55</td>\n",
       "      <td>315.32</td>\n",
       "      <td>89.31</td>\n",
       "      <td>7.00</td>\n",
       "      <td>1.98</td>\n",
       "      <td>0.00</td>\n",
       "      <td>0.00</td>\n",
       "      <td>15.55</td>\n",
       "      <td>0.0</td>\n",
       "      <td>0.0</td>\n",
       "      <td>1.0</td>\n",
       "    </tr>\n",
       "    <tr>\n",
       "      <th>1</th>\n",
       "      <td>1.19</td>\n",
       "      <td>622.55</td>\n",
       "      <td>323.40</td>\n",
       "      <td>109.15</td>\n",
       "      <td>7.70</td>\n",
       "      <td>3.00</td>\n",
       "      <td>0.00</td>\n",
       "      <td>0.00</td>\n",
       "      <td>15.55</td>\n",
       "      <td>1.0</td>\n",
       "      <td>0.0</td>\n",
       "      <td>0.0</td>\n",
       "    </tr>\n",
       "    <tr>\n",
       "      <th>2</th>\n",
       "      <td>0.88</td>\n",
       "      <td>463.05</td>\n",
       "      <td>291.06</td>\n",
       "      <td>99.23</td>\n",
       "      <td>5.67</td>\n",
       "      <td>4.40</td>\n",
       "      <td>0.00</td>\n",
       "      <td>0.00</td>\n",
       "      <td>15.55</td>\n",
       "      <td>1.0</td>\n",
       "      <td>0.0</td>\n",
       "      <td>0.0</td>\n",
       "    </tr>\n",
       "    <tr>\n",
       "      <th>3</th>\n",
       "      <td>0.79</td>\n",
       "      <td>509.36</td>\n",
       "      <td>291.06</td>\n",
       "      <td>121.28</td>\n",
       "      <td>6.30</td>\n",
       "      <td>4.05</td>\n",
       "      <td>0.00</td>\n",
       "      <td>0.00</td>\n",
       "      <td>15.55</td>\n",
       "      <td>0.0</td>\n",
       "      <td>1.0</td>\n",
       "      <td>0.0</td>\n",
       "    </tr>\n",
       "    <tr>\n",
       "      <th>4</th>\n",
       "      <td>0.89</td>\n",
       "      <td>507.15</td>\n",
       "      <td>385.39</td>\n",
       "      <td>121.28</td>\n",
       "      <td>7.70</td>\n",
       "      <td>2.00</td>\n",
       "      <td>0.00</td>\n",
       "      <td>0.00</td>\n",
       "      <td>20.84</td>\n",
       "      <td>1.0</td>\n",
       "      <td>0.0</td>\n",
       "      <td>0.0</td>\n",
       "    </tr>\n",
       "    <tr>\n",
       "      <th>...</th>\n",
       "      <td>...</td>\n",
       "      <td>...</td>\n",
       "      <td>...</td>\n",
       "      <td>...</td>\n",
       "      <td>...</td>\n",
       "      <td>...</td>\n",
       "      <td>...</td>\n",
       "      <td>...</td>\n",
       "      <td>...</td>\n",
       "      <td>...</td>\n",
       "      <td>...</td>\n",
       "      <td>...</td>\n",
       "    </tr>\n",
       "    <tr>\n",
       "      <th>763</th>\n",
       "      <td>0.52</td>\n",
       "      <td>948.64</td>\n",
       "      <td>277.83</td>\n",
       "      <td>218.30</td>\n",
       "      <td>4.24</td>\n",
       "      <td>4.95</td>\n",
       "      <td>0.48</td>\n",
       "      <td>4.05</td>\n",
       "      <td>17.88</td>\n",
       "      <td>0.0</td>\n",
       "      <td>0.0</td>\n",
       "      <td>1.0</td>\n",
       "    </tr>\n",
       "    <tr>\n",
       "      <th>764</th>\n",
       "      <td>0.50</td>\n",
       "      <td>727.65</td>\n",
       "      <td>315.32</td>\n",
       "      <td>266.80</td>\n",
       "      <td>3.47</td>\n",
       "      <td>1.98</td>\n",
       "      <td>0.44</td>\n",
       "      <td>5.00</td>\n",
       "      <td>16.54</td>\n",
       "      <td>0.0</td>\n",
       "      <td>1.0</td>\n",
       "      <td>0.0</td>\n",
       "    </tr>\n",
       "    <tr>\n",
       "      <th>765</th>\n",
       "      <td>0.68</td>\n",
       "      <td>889.35</td>\n",
       "      <td>404.25</td>\n",
       "      <td>178.60</td>\n",
       "      <td>3.47</td>\n",
       "      <td>2.43</td>\n",
       "      <td>0.40</td>\n",
       "      <td>4.95</td>\n",
       "      <td>16.44</td>\n",
       "      <td>1.0</td>\n",
       "      <td>0.0</td>\n",
       "      <td>0.0</td>\n",
       "    </tr>\n",
       "    <tr>\n",
       "      <th>766</th>\n",
       "      <td>0.50</td>\n",
       "      <td>654.88</td>\n",
       "      <td>363.82</td>\n",
       "      <td>218.30</td>\n",
       "      <td>3.15</td>\n",
       "      <td>3.96</td>\n",
       "      <td>0.36</td>\n",
       "      <td>4.50</td>\n",
       "      <td>16.48</td>\n",
       "      <td>0.0</td>\n",
       "      <td>0.0</td>\n",
       "      <td>1.0</td>\n",
       "    </tr>\n",
       "    <tr>\n",
       "      <th>767</th>\n",
       "      <td>0.50</td>\n",
       "      <td>800.42</td>\n",
       "      <td>404.25</td>\n",
       "      <td>218.30</td>\n",
       "      <td>2.84</td>\n",
       "      <td>4.05</td>\n",
       "      <td>0.32</td>\n",
       "      <td>4.95</td>\n",
       "      <td>16.64</td>\n",
       "      <td>0.0</td>\n",
       "      <td>0.0</td>\n",
       "      <td>1.0</td>\n",
       "    </tr>\n",
       "  </tbody>\n",
       "</table>\n",
       "<p>768 rows × 12 columns</p>\n",
       "</div>"
      ],
      "text/plain": [
       "     Compactness  SurfaceArea  WallArea  RoofArea  OverallHeight  Orientation  \\\n",
       "0           1.19       622.55    315.32     89.31           7.00         1.98   \n",
       "1           1.19       622.55    323.40    109.15           7.70         3.00   \n",
       "2           0.88       463.05    291.06     99.23           5.67         4.40   \n",
       "3           0.79       509.36    291.06    121.28           6.30         4.05   \n",
       "4           0.89       507.15    385.39    121.28           7.70         2.00   \n",
       "..           ...          ...       ...       ...            ...          ...   \n",
       "763         0.52       948.64    277.83    218.30           4.24         4.95   \n",
       "764         0.50       727.65    315.32    266.80           3.47         1.98   \n",
       "765         0.68       889.35    404.25    178.60           3.47         2.43   \n",
       "766         0.50       654.88    363.82    218.30           3.15         3.96   \n",
       "767         0.50       800.42    404.25    218.30           2.84         4.05   \n",
       "\n",
       "     GlazingArea  GlazingAreaDistribution  HeatingLoad   C1   C2   C3  \n",
       "0           0.00                     0.00        15.55  0.0  0.0  1.0  \n",
       "1           0.00                     0.00        15.55  1.0  0.0  0.0  \n",
       "2           0.00                     0.00        15.55  1.0  0.0  0.0  \n",
       "3           0.00                     0.00        15.55  0.0  1.0  0.0  \n",
       "4           0.00                     0.00        20.84  1.0  0.0  0.0  \n",
       "..           ...                      ...          ...  ...  ...  ...  \n",
       "763         0.48                     4.05        17.88  0.0  0.0  1.0  \n",
       "764         0.44                     5.00        16.54  0.0  1.0  0.0  \n",
       "765         0.40                     4.95        16.44  1.0  0.0  0.0  \n",
       "766         0.36                     4.50        16.48  0.0  0.0  1.0  \n",
       "767         0.32                     4.95        16.64  0.0  0.0  1.0  \n",
       "\n",
       "[768 rows x 12 columns]"
      ]
     },
     "execution_count": 512,
     "metadata": {},
     "output_type": "execute_result"
    }
   ],
   "source": [
    "dataset = dataset.rename(\n",
    "    columns={\n",
    "    'X1' : 'Compactness', \n",
    "    'X2' : 'SurfaceArea', \n",
    "    'X3' : 'WallArea', \n",
    "    'X4' : 'RoofArea', \n",
    "    'X5' : 'OverallHeight',\n",
    "    'X6' : 'Orientation',\n",
    "    'X7' : 'GlazingArea',\n",
    "    'X8' : 'GlazingAreaDistribution', \n",
    "    'Y' : 'HeatingLoad',\n",
    "    0 : 'C1',\n",
    "    1 : 'C2', \n",
    "    2 : 'C3'})\n",
    "\n",
    "dataset"
   ]
  },
  {
   "cell_type": "code",
   "execution_count": 513,
   "metadata": {},
   "outputs": [
    {
     "data": {
      "text/plain": [
       "HeatingLoad                1.000000\n",
       "OverallHeight              0.815769\n",
       "Compactness                0.454177\n",
       "WallArea                   0.305970\n",
       "GlazingArea                0.255901\n",
       "GlazingAreaDistribution    0.087106\n",
       "C1                         0.012669\n",
       "C3                         0.008096\n",
       "Orientation                0.001340\n",
       "C2                        -0.020453\n",
       "SurfaceArea               -0.481192\n",
       "RoofArea                  -0.771040\n",
       "Name: HeatingLoad, dtype: float64"
      ]
     },
     "execution_count": 513,
     "metadata": {},
     "output_type": "execute_result"
    }
   ],
   "source": [
    "corr_matrix = dataset.corr()\n",
    "corr_matrix[\"HeatingLoad\"].sort_values(ascending=False)"
   ]
  },
  {
   "attachments": {},
   "cell_type": "markdown",
   "metadata": {},
   "source": [
    "### Inspecting data correlations"
   ]
  },
  {
   "attachments": {},
   "cell_type": "markdown",
   "metadata": {},
   "source": [
    "### 3. data transformations you consider useful for this task"
   ]
  },
  {
   "attachments": {},
   "cell_type": "markdown",
   "metadata": {},
   "source": [
    "### 4. treatment of missing values"
   ]
  },
  {
   "attachments": {},
   "cell_type": "markdown",
   "metadata": {},
   "source": [
    "### 5. feature selection if you consider it useful for helping you achieve a better performance"
   ]
  }
 ],
 "metadata": {
  "kernelspec": {
   "display_name": "mlenv",
   "language": "python",
   "name": "python3"
  },
  "language_info": {
   "codemirror_mode": {
    "name": "ipython",
    "version": 3
   },
   "file_extension": ".py",
   "mimetype": "text/x-python",
   "name": "python",
   "nbconvert_exporter": "python",
   "pygments_lexer": "ipython3",
   "version": "3.10.9"
  },
  "orig_nbformat": 4
 },
 "nbformat": 4,
 "nbformat_minor": 2
}
