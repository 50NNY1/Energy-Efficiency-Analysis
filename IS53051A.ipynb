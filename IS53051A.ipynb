{
 "cells": [
  {
   "attachments": {},
   "cell_type": "markdown",
   "metadata": {},
   "source": [
    "# IS53051A Machine Learning Assignment\n",
    "### Jake Tyler [student number] & Sonny Holland [student number]"
   ]
  },
  {
   "cell_type": "markdown",
   "metadata": {},
   "source": [
    "# Setting up our notebook\n"
   ]
  },
  {
   "attachments": {},
   "cell_type": "markdown",
   "metadata": {},
   "source": [
    "Importing libraries:"
   ]
  },
  {
   "cell_type": "code",
   "execution_count": 85,
   "metadata": {},
   "outputs": [],
   "source": [
    "import pandas as pd\n",
    "import matplotlib.pyplot as plt\n",
    "import numpy as np\n",
    "import sklearn as sk"
   ]
  },
  {
   "attachments": {},
   "cell_type": "markdown",
   "metadata": {},
   "source": [
    "Importing the dataset:"
   ]
  },
  {
   "cell_type": "code",
   "execution_count": 86,
   "metadata": {},
   "outputs": [],
   "source": [
    "dataset = pd.read_csv('datcw_na.csv')"
   ]
  },
  {
   "attachments": {},
   "cell_type": "markdown",
   "metadata": {},
   "source": [
    "# Data inspection and Visualisation"
   ]
  },
  {
   "attachments": {},
   "cell_type": "markdown",
   "metadata": {},
   "source": [
    "First, we take a brief look at our dataset:"
   ]
  },
  {
   "cell_type": "code",
   "execution_count": 87,
   "metadata": {},
   "outputs": [
    {
     "name": "stdout",
     "output_type": "stream",
     "text": [
      "   X0    X1      X2      X3      X4    X5    X6   X7   X8      Y\n",
      "0  C3  1.19  622.55     NaN   89.31  7.00  1.98  0.0  0.0  15.55\n",
      "1  C1  1.19  622.55  323.40  109.15  7.70  3.00  0.0  0.0  15.55\n",
      "2  C1  0.88  463.05  291.06   99.23  5.67  4.40  0.0  0.0  15.55\n",
      "3  C2  0.79  509.36  291.06  121.28  6.30  4.05  0.0  0.0  15.55\n",
      "4  C1  0.89  507.15  385.39  121.28  7.70  2.00  0.0  0.0  20.84 \n",
      "\n",
      "<class 'pandas.core.frame.DataFrame'>\n",
      "RangeIndex: 768 entries, 0 to 767\n",
      "Data columns (total 10 columns):\n",
      " #   Column  Non-Null Count  Dtype  \n",
      "---  ------  --------------  -----  \n",
      " 0   X0      768 non-null    object \n",
      " 1   X1      768 non-null    float64\n",
      " 2   X2      768 non-null    float64\n",
      " 3   X3      728 non-null    float64\n",
      " 4   X4      768 non-null    float64\n",
      " 5   X5      768 non-null    float64\n",
      " 6   X6      768 non-null    float64\n",
      " 7   X7      768 non-null    float64\n",
      " 8   X8      768 non-null    float64\n",
      " 9   Y       768 non-null    float64\n",
      "dtypes: float64(9), object(1)\n",
      "memory usage: 60.1+ KB\n",
      "None\n"
     ]
    }
   ],
   "source": [
    "print(dataset.head(), \"\\n\")\n",
    "print(dataset.info())"
   ]
  },
  {
   "attachments": {},
   "cell_type": "markdown",
   "metadata": {},
   "source": [
    "### Column 'X3' has missing values and column 'X0' is non-numerical,\n",
    "\n",
    "Below, we can confirm our suspicions that column X3 has 768 entries. We can also identify that 40 values are missing from these entries:"
   ]
  },
  {
   "cell_type": "code",
   "execution_count": 88,
   "metadata": {},
   "outputs": [
    {
     "name": "stdout",
     "output_type": "stream",
     "text": [
      "X3 number of entries: 768\n",
      "X3 missing values: 40\n"
     ]
    }
   ],
   "source": [
    "print(f\"X3 number of entries: {dataset['X3'].size}\")\n",
    "print(f\"X3 missing values: {dataset['X3'].isna().sum()}\")"
   ]
  },
  {
   "attachments": {},
   "cell_type": "markdown",
   "metadata": {},
   "source": [
    "We can also confirm that X0 is a nominal/categorical variable.\n",
    "\n",
    "The value_counts method also provides the elements in descending order, starting with the most frequently occurring one but this would probably be more useful if we were dealing with a classification problem, not a regression problem."
   ]
  },
  {
   "cell_type": "code",
   "execution_count": 89,
   "metadata": {},
   "outputs": [
    {
     "name": "stdout",
     "output_type": "stream",
     "text": [
      "X0 value counts:\n",
      "C2    265\n",
      "C3    260\n",
      "C1    243\n",
      "Name: X0, dtype: int64\n"
     ]
    }
   ],
   "source": [
    "print(\"X0 value counts:\")\n",
    "print(dataset[\"X0\"].value_counts())"
   ]
  },
  {
   "attachments": {},
   "cell_type": "markdown",
   "metadata": {},
   "source": [
    "### Assessing our options for handling missing values and non-numerical categorical data in our dataset before pre-processing,\n",
    "\n",
    "REWRITE HERE (ONE HOT ENCODING STUFF):\n",
    "When handling noninal/categorical data we can either drop the column entirely or we can use one hot encoding.\n",
    "\n",
    "* One-hot encoding: In this technique, a new binary column is created for each category in the categorical feature. Each row in the dataset is assigned a 1 in the corresponding category column and 0 in all other category columns. For example, if we have a categorical feature \"color\" with values \"red\", \"green\", and \"blue\", we can create three new columns \"color_red\", \"color_green\", and \"color_blue\" and assign binary values based on the presence or absence of each category in each row.\n",
    "\n",
    "On the other hand, when handling missing values, if the amount is small and randomly distributed it may be reasonable to replace with it the mean, median or mode of the non-missing values.\n",
    "\n",
    "If the missing values are large or non-random, it may be better to drop the missing values altogether.\n",
    "\n",
    "\n",
    "We can perform some basic types of analysis to investigate our missing values further:\n",
    "\n"
   ]
  },
  {
   "attachments": {},
   "cell_type": "markdown",
   "metadata": {},
   "source": [
    "### Checking the percentage of missing data,\n",
    "\n",
    "First, we can check the percentage of missing values in our colums. Typically, if the percentage less than 5% we can consider this a small amount:"
   ]
  },
  {
   "cell_type": "code",
   "execution_count": 90,
   "metadata": {},
   "outputs": [
    {
     "name": "stdout",
     "output_type": "stream",
     "text": [
      "percentage of missing values:\n",
      "X0    0.000000\n",
      "X1    0.000000\n",
      "X2    0.000000\n",
      "X3    0.052083\n",
      "X4    0.000000\n",
      "X5    0.000000\n",
      "X6    0.000000\n",
      "X7    0.000000\n",
      "X8    0.000000\n",
      "Y     0.000000\n",
      "dtype: float64 \n",
      "\n"
     ]
    }
   ],
   "source": [
    "print(\"percentage of missing values:\")\n",
    "print(dataset.isna().sum() / dataset.shape[0], \"\\n\")"
   ]
  },
  {
   "attachments": {},
   "cell_type": "markdown",
   "metadata": {},
   "source": [
    "Since the percentage of missing values is less than 5% for all columns, it seems reasonable to assume that the missing values are small. While the 'X3' column does have the highest percentage of missing values and exceeds the 5% threshold, the difference is small enough to still consider it small. However, it's important to note that the missing data may still have an impact on the analysis and a decision has not been made on how to handle it.\n",
    "\n",
    "To continue our investigation, we can conduct a visual inspection to check the distribution:\n",
    "\n",
    "[NOTE: we can also check correlations on the target variable and different types of correlations]"
   ]
  },
  {
   "attachments": {},
   "cell_type": "markdown",
   "metadata": {},
   "source": [
    "### Checking the distribution of values in X3,\n",
    "\n",
    "REWRITE HERE:\n",
    "To understand the distribution of the missing and non-missing values?, we can use a histogram to gain some visual insights:"
   ]
  },
  {
   "cell_type": "code",
   "execution_count": 91,
   "metadata": {},
   "outputs": [
    {
     "data": {
      "image/png": "[encoded data removed]",
      "text/plain": [
       "<Figure size 640x480 with 1 Axes>"
      ]
     },
     "metadata": {},
     "output_type": "display_data"
    }
   ],
   "source": [
    "plt.hist(dataset['X3'], bins=20)\n",
    "plt.xlabel('X3 values')\n",
    "plt.ylabel('Frequency')\n",
    "plt.show()"
   ]
  },
  {
   "attachments": {},
   "cell_type": "markdown",
   "metadata": {},
   "source": [
    "### generate example datasets for visual comparison,\n",
    "\n",
    "We can also generate some example datasets for a visual comparison to confirm whether the distribution is either random or non-random:"
   ]
  },
  {
   "cell_type": "code",
   "execution_count": 92,
   "metadata": {},
   "outputs": [
    {
     "data": {
      "image/png": "[encoded data removed]",
      "text/plain": [
       "<Figure size 640x480 with 1 Axes>"
      ]
     },
     "metadata": {},
     "output_type": "display_data"
    },
    {
     "data": {
      "image/png": "[encoded data removed]",
      "text/plain": [
       "<Figure size 640x480 with 1 Axes>"
      ]
     },
     "metadata": {},
     "output_type": "display_data"
    }
   ],
   "source": [
    "random_dataset = np.random.randn(100)\n",
    "plt.xlabel('values')\n",
    "plt.ylabel('Frequency')\n",
    "plt.hist(random_dataset, bins=20)\n",
    "plt.show()\n",
    "\n",
    "nonrandom_dataset = np.random.normal(0, 1, 100) ** 3\n",
    "plt.xlabel('values')\n",
    "plt.ylabel('Frequency')\n",
    "plt.hist(nonrandom_dataset, bins=20)\n",
    "plt.show()"
   ]
  },
  {
   "attachments": {},
   "cell_type": "markdown",
   "metadata": {},
   "source": [
    "from the above examples we can conclude that the missing values in X3 are randomly distributed, we can consider imputing the missing values with a reasonable method, such as mean, mode or median to fill in the gaps in the data.\n",
    "\n",
    "Before making a final decision on the imputation method, it would be good to analyze the relationship between X3 and the target variable Y, to see if the missing values have a significant impact on the results:"
   ]
  },
  {
   "cell_type": "code",
   "execution_count": 93,
   "metadata": {},
   "outputs": [
    {
     "data": {
      "text/plain": [
       "array([[<AxesSubplot: xlabel='Y', ylabel='Y'>,\n",
       "        <AxesSubplot: xlabel='X3', ylabel='Y'>],\n",
       "       [<AxesSubplot: xlabel='Y', ylabel='X3'>,\n",
       "        <AxesSubplot: xlabel='X3', ylabel='X3'>]], dtype=object)"
      ]
     },
     "execution_count": 93,
     "metadata": {},
     "output_type": "execute_result"
    },
    {
     "data": {
      "image/png": "[encoded data removed]",
      "text/plain": [
       "<Figure size 1200x800 with 4 Axes>"
      ]
     },
     "metadata": {},
     "output_type": "display_data"
    }
   ],
   "source": [
    "from pandas.plotting import scatter_matrix\n",
    "attributes = [\"Y\", \"X3\"]\n",
    "scatter_matrix(dataset[attributes], figsize=(12, 8))"
   ]
  },
  {
   "cell_type": "code",
   "execution_count": 94,
   "metadata": {},
   "outputs": [],
   "source": [
    "# # instantiate multiple copies of the dataset to trial different means of imputation and checking its\n",
    "# # effect on the correlation between X3 and Y\n",
    "\n",
    "# dataset_for_mean = dataset.copy()\n",
    "# dataset_for_median = dataset.copy()\n",
    "# dataset_for_random_drop_mean = dataset.copy()\n",
    "\n",
    "# # Calculate the percentage of missing values in X3\n",
    "# missing_X3 = dataset_for_random_drop_mean['X3'].isna().mean()\n",
    "\n",
    "# # Replace missing values in column X3 with the mean value, and the other copy with the median value\n",
    "# median_X3 = dataset_for_median['X3'].median()\n",
    "# mean_X3 = dataset_for_mean['X3'].mean()\n",
    "# dataset_for_mean['X3'].fillna(mean_X3, inplace=True)\n",
    "# dataset_for_median['X3'].fillna(median_X3, inplace=True)\n",
    "\n",
    "# # Calculate the correlation between X3 and Y for the mean imputed dataset\n",
    "# correlation_with_mean = dataset_for_mean[['X3', 'Y']].corr().loc['X3', 'Y']\n",
    "\n",
    "# # Calculate the correlation between X3 and Y for the median imputed dataset\n",
    "# correlation_with_median = dataset_for_median[['X3', 'Y']].corr().loc['X3', 'Y']\n",
    "\n",
    "# # Create a copy of the dataset with randomly dropped values in X3\n",
    "# dataset_for_random_drop_mean['X3'] = dataset_for_random_drop_mean['X3'].apply(lambda x: np.nan if np.random.rand() < missing_X3 else x)\n",
    "\n",
    "# # Replace missing values in the random_drop dataset with the mean value\n",
    "# dataset_for_random_drop_mean['X3'].fillna(mean_X3, inplace=True)\n",
    "\n",
    "# # Replace missing values in the random_drop dataset with the median value\n",
    "# dataset_for_random_drop_mean['X3'].fillna(median_X3, inplace=True)\n",
    "\n",
    "# # Calculate the correlation between X3 and Y in the random_drop dataset\n",
    "# correlation_with_random_drop = dataset_for_random_drop_mean[['X3', 'Y']].corr().loc['X3', 'Y']\n",
    "\n",
    "# # Create a copy of the dataset with randomly dropped values in X3 and median imputation\n",
    "# dataset_for_random_drop_median = dataset.copy()\n",
    "# dataset_for_random_drop_median['X3'] = dataset_for_random_drop_median['X3'].apply(lambda x: np.nan if np.random.rand() < missing_X3 else x)\n",
    "# dataset_for_random_drop_median['X3'].fillna(median_X3, inplace=True)\n",
    "\n",
    "# # Calculate the correlation between X3 and Y in the random_drop and median imputed dataset\n",
    "# correlation_with_random_drop_median = dataset_for_random_drop_median[['X3', 'Y']].corr().loc['X3', 'Y']\n",
    "\n",
    "# # Print the correlation results\n",
    "# print(f\"Correlation between X3 and Y with without any imputation methods: {dataset['X3'].corr(dataset['Y']):.3f}\")\n",
    "# print(f\"Correlation between X3 and Y with mean imputation: {correlation_with_mean:.3f}\")\n",
    "# print(f\"Correlation between X3 and Y with random drop and mean imputation: {correlation_with_random_drop:.3f}\")\n",
    "# print(f\"Correlation between X3 and Y with median imputation: {correlation_with_median:.3f}\")\n",
    "# print(f\"Correlation between X3 and Y with random drop and median imputation: {correlation_with_random_drop_median:.3f}\")"
   ]
  },
  {
   "cell_type": "code",
   "execution_count": 95,
   "metadata": {},
   "outputs": [
    {
     "name": "stdout",
     "output_type": "stream",
     "text": [
      "Correlation between X3 and Y (without imputation): 0.3124488952355989 \n",
      "\n",
      "Correlation between X3 and Y (mean imputation): 0.30511448543332886\n",
      "Correlation between X3 and Y (mean imputation and random drop): 0.293106115022126 \n",
      "\n",
      "Correlation between X3 and Y (mode imputation): 0.30796491944608173\n",
      "Correlation between X3 and Y (mode imputation and random drop): 0.2966178237297222 \n",
      "\n",
      "Correlation between X3 and Y (median imputation): 0.3059704038634418\n",
      "Correlation between X3 and Y (median imputation and random drop): 0.2942685980272344 \n",
      "\n",
      "Best imputation method for X3: raw\n",
      "Correlation with Y: 0.3124488952355989\n"
     ]
    }
   ],
   "source": [
    "# calculate the correlation between X3 and Y without replacing missing values\n",
    "corr_raw = dataset['X3'].corr(dataset['Y'])\n",
    "\n",
    "# calculate the correlation between X3 and Y with mean, mode, and median imputation\n",
    "corr_mean = dataset['X3'].fillna(dataset['X3'].mean()).corr(dataset['Y'])\n",
    "corr_mode = dataset['X3'].fillna(dataset['X3'].mode()[0]).corr(dataset['Y'])\n",
    "corr_median = dataset['X3'].fillna(dataset['X3'].median()).corr(dataset['Y'])\n",
    "\n",
    "# randomly drop 20% of the rows in the dataset to simulate missingness\n",
    "dataset_random_drop = dataset.drop(np.random.choice(dataset.index, size=int(len(dataset)*0.2), replace=False))\n",
    "\n",
    "# calculate the correlation between X3 and Y with mean, mode, and median imputation with random drops\n",
    "corr_mean_random = dataset_random_drop['X3'].fillna(dataset_random_drop['X3'].mean()).corr(dataset_random_drop['Y'])\n",
    "corr_mode_random = dataset_random_drop['X3'].fillna(dataset_random_drop['X3'].mode()[0]).corr(dataset_random_drop['Y'])\n",
    "corr_median_random = dataset_random_drop['X3'].fillna(dataset_random_drop['X3'].median()).corr(dataset_random_drop['Y'])\n",
    "\n",
    "print(f\"Correlation between X3 and Y (without imputation): {corr_raw}\", '\\n')\n",
    "\n",
    "print(f\"Correlation between X3 and Y (mean imputation): {corr_mean}\")\n",
    "print(f\"Correlation between X3 and Y (mean imputation and random drop): {corr_mean_random}\", '\\n')\n",
    "\n",
    "print(f\"Correlation between X3 and Y (mode imputation): {corr_mode}\")\n",
    "print(f\"Correlation between X3 and Y (mode imputation and random drop): {corr_mode_random}\", '\\n')\n",
    "\n",
    "print(f\"Correlation between X3 and Y (median imputation): {corr_median}\")\n",
    "print(f\"Correlation between X3 and Y (median imputation and random drop): {corr_median_random}\", '\\n')\n",
    "\n",
    "\n",
    "\n",
    "\n",
    "# create a dictionary to store the correlation values for each imputation method\n",
    "corr_dict = {\n",
    "    'raw': corr_raw, # should we drop this\n",
    "    'mean': corr_mean,\n",
    "    'mode': corr_mode,\n",
    "    'median': corr_median,\n",
    "    'mean_random': corr_mean_random,\n",
    "    'mode_random': corr_mode_random,\n",
    "    'median_random': corr_median_random\n",
    "}\n",
    "\n",
    "# find the imputation method with the highest correlation with the target variable\n",
    "best_imputation = max(corr_dict, key=corr_dict.get)\n",
    "\n",
    "# print the results\n",
    "print(f\"Best imputation method for X3: {best_imputation}\")\n",
    "print(f\"Correlation with Y: {corr_dict[best_imputation]}\")\n",
    "\n",
    "\n",
    "# It depends on the specific circumstances and goals of your machine learning project.\n",
    "# In some cases, using the raw dataset without any imputation method might be the best\n",
    "# option. This could be the case if the missing data is truly missing at random and\n",
    "# there is no systematic bias in the missing data.\n",
    "\n",
    "# However, in many cases, simply ignoring missing values and using the raw dataset\n",
    "# could lead to biased or inaccurate results. For example, if the missing data is\n",
    "# related to the target variable or another important feature, then ignoring it could\n",
    "# result in a model that does not capture important patterns in the data.\n",
    "\n",
    "# Therefore, it is important to carefully consider the specific characteristics of\n",
    "# your dataset and the goals of your machine learning project when deciding whether\n",
    "# to use the raw dataset or an imputed dataset. Additionally, you may want to consider\n",
    "# alternative methods for handling missing values, such as model-based imputation or\n",
    "#     multiple imputation, which can provide more accurate and reliable results.\n"
   ]
  },
  {
   "attachments": {},
   "cell_type": "markdown",
   "metadata": {},
   "source": [
    "### REWRITE ALL THIS, MAKE IT LESS GPT'Y\n",
    "\n",
    "SONNYS BIT: the preceeding code suggests that our choice of imputation has very little affect on the ecology of the dataset, one would expect the use of dropping random values would have a greater impact on the correlation between X3 and Y albeit a negative one, given the ham-fisted nature of this method. For the sake of this exercise we will proceed with the median imputation method. But in other cases it may be worth exploring other means of imputation, such as regression imputation or multiple imputation, to see if they produce more robust results. Alternatively, you may want to consider using analysis methods that are more tolerant to missing data, such as bootstrapping or Bayesian analysis.\n",
    "\n",
    "\n",
    "The correlation between X3 and Y with mean imputation is 0.305 and the correlation between X3 and Y with \n",
    "random drop and mean imputation is 0.293.\n",
    "\n",
    "This suggests that imputing missing values in X3 with the mean value has a small positive impact on \n",
    "the correlation between X3 and Y, indicating that there is a weak positive linear relationship between \n",
    "the two variables. However, the difference between the two correlation values is relatively small,\n",
    "suggesting that the choice of imputation method may not have a significant impact on the analysis.\n",
    "\n",
    "Based on these results, you can conclude that the two imputation methods produce similar results,\n",
    "but there may be some variability due to missing data. You may then want to explore other\n",
    "imputation methods, such as regression imputation or multiple imputation, to see if they\n",
    "produce more robust results. Alternatively, you may want to consider using analysis methods \n",
    "that are more tolerant to missing data, such as bootstrapping or Bayesian analysis.\n",
    "\n",
    "\n",
    "-------------------------------------------------------------------------------------------\n",
    "Based on the information provided, it seems reasonable to replace the missing values in column X3 with the mean value as the percentage of missing values is relatively low (5.2%).\n",
    "\n",
    "Additionally, X3 appears to have a moderate positive correlation with the target variable Y\n",
    "(correlation coefficient of 0.31), indicating that it may be a useful feature in predicting Y.\n",
    "\n",
    "Therefore, it's important to carefully evaluate the data and consider other imputation methods, such as using a regression model to predict missing values based on the values of other variables, if appropriate.\n",
    "\n",
    "Based on the information provided, it seems reasonable to replace the missing values in column X3 with the mean value, as the percentage of missing values is relatively low (5.2%). Additionally, X3 appears to have a moderate positive correlation with the target variable Y (correlation coefficient of 0.31), indicating that it may be a useful feature in predicting Y.\n",
    "\n",
    "However, before deciding to replace missing values with the mean, it's important to consider the nature of the data and the potential impact of imputing missing values on the analysis results. For instance, if X3 has a significant number of extreme values or outliers, then the mean may not be a representative measure of central tendency, and imputing missing values with the mean could distort the distribution of the data."
   ]
  },
  {
   "attachments": {},
   "cell_type": "markdown",
   "metadata": {},
   "source": [
    "# Data preprocessing\n",
    "\n",
    "First, we compute a correlation matrix, this informs our data stratification as we want to make decisions upon the features that correlate best to our target variable. Also down the line, we will perform feature selection, based on the correlation matrix; we will be dropping columns with a low correlation to our target variable:"
   ]
  },
  {
   "cell_type": "code",
   "execution_count": 96,
   "metadata": {},
   "outputs": [
    {
     "name": "stderr",
     "output_type": "stream",
     "text": [
      "/var/folders/4t/8hjy6t1s4v9_4wgdjp2xb_m00000gn/T/ipykernel_3904/609732122.py:1: FutureWarning: The default value of numeric_only in DataFrame.corr is deprecated. In a future version, it will default to False. Select only valid columns or specify the value of numeric_only to silence this warning.\n",
      "  corr_matrix = dataset.corr()\n"
     ]
    },
    {
     "data": {
      "text/plain": [
       "Y     1.000000\n",
       "X5    0.815769\n",
       "X1    0.454177\n",
       "X3    0.312449\n",
       "X7    0.255901\n",
       "X8    0.087106\n",
       "X6    0.001340\n",
       "X2   -0.481192\n",
       "X4   -0.771040\n",
       "Name: Y, dtype: float64"
      ]
     },
     "execution_count": 96,
     "metadata": {},
     "output_type": "execute_result"
    }
   ],
   "source": [
    "corr_matrix = dataset.corr()\n",
    "corr_matrix[\"Y\"].sort_values(ascending=False)"
   ]
  },
  {
   "attachments": {},
   "cell_type": "markdown",
   "metadata": {},
   "source": [
    "### Split the data into train and test sets, for model training and evaluation, respectively"
   ]
  },
  {
   "attachments": {},
   "cell_type": "markdown",
   "metadata": {},
   "source": [
    "### Data preprocessing"
   ]
  },
  {
   "attachments": {},
   "cell_type": "markdown",
   "metadata": {},
   "source": [
    "Feature selection"
   ]
  },
  {
   "cell_type": "code",
   "execution_count": 97,
   "metadata": {},
   "outputs": [
    {
     "name": "stdout",
     "output_type": "stream",
     "text": [
      "(768, 10)\n"
     ]
    }
   ],
   "source": [
    "print(dataset.shape)"
   ]
  },
  {
   "cell_type": "code",
   "execution_count": 98,
   "metadata": {},
   "outputs": [
    {
     "name": "stdout",
     "output_type": "stream",
     "text": [
      "Dropping following labels:  ['X6', 'X8']\n",
      "(768, 10)\n",
      "(768, 8)\n"
     ]
    },
    {
     "name": "stderr",
     "output_type": "stream",
     "text": [
      "/var/folders/4t/8hjy6t1s4v9_4wgdjp2xb_m00000gn/T/ipykernel_3904/1915178434.py:4: FutureWarning: The default value of numeric_only in DataFrame.corr is deprecated. In a future version, it will default to False. Select only valid columns or specify the value of numeric_only to silence this warning.\n",
      "  dataset.corr()[abs(dataset.corr()['Y']) < threshold].index)\n"
     ]
    }
   ],
   "source": [
    "dataset_fs = dataset.copy()\n",
    "def drop_correlation_columns(data, threshold):\n",
    "    features_to_drop = list(\n",
    "        dataset.corr()[abs(dataset.corr()['Y']) < threshold].index)\n",
    "    print('Dropping following labels: ', features_to_drop)\n",
    "    data.drop(features_to_drop, axis=1, inplace=True)\n",
    "    return data\n",
    "\n",
    "dataset_fs = drop_correlation_columns(dataset_fs, 0.25)\n",
    "print(dataset.shape)\n",
    "print(dataset_fs.shape)"
   ]
  },
  {
   "attachments": {},
   "cell_type": "markdown",
   "metadata": {},
   "source": [
    "One hot encoding"
   ]
  },
  {
   "cell_type": "code",
   "execution_count": 99,
   "metadata": {},
   "outputs": [],
   "source": [
    "from sklearn.preprocessing import OneHotEncoder\n",
    "from sklearn.preprocessing import StandardScaler\n",
    "\n",
    "# as already discussed 'x0' is a categorical feature of the dataset, \n",
    "# thus we need to use one-hot encoding to convert the feature into a numerical representation\n",
    "\n",
    "encoder = OneHotEncoder(sparse_output=False)\n",
    "encoder_fs = OneHotEncoder(sparse_output=False)\n",
    "onehot_X0 = encoder.fit_transform(dataset['X0'].values.reshape(-1, 1))\n",
    "onehot_X0_fs = encoder_fs.fit_transform(dataset_fs['X0'].values.reshape(-1, 1))\n",
    "dataset = dataset.drop('X0', axis=1)\n",
    "dataset_fs = dataset_fs.drop('X0', axis=1)\n",
    "dataset = pd.concat([dataset, pd.DataFrame(onehot_X0)], axis=1)\n",
    "dataset_fs = pd.concat([dataset_fs, pd.DataFrame(onehot_X0_fs)], axis=1)"
   ]
  },
  {
   "attachments": {},
   "cell_type": "markdown",
   "metadata": {},
   "source": [
    "Data imputation"
   ]
  },
  {
   "cell_type": "code",
   "execution_count": 100,
   "metadata": {},
   "outputs": [],
   "source": [
    "# 'x3' has missing values, so we need to impute the missing values before we can use it, as already deduced in the notebook\n",
    "# we will use the median value to impute the missing values\n",
    "\n",
    "median_X3 = dataset['X3'].median()\n",
    "median_X3_fs = dataset_fs['X3'].median()\n",
    "dataset['X3'].fillna(median_X3, inplace=True)\n",
    "dataset_fs['X3'].fillna(median_X3_fs, inplace=True)"
   ]
  },
  {
   "attachments": {},
   "cell_type": "markdown",
   "metadata": {},
   "source": [
    "Train test split"
   ]
  },
  {
   "cell_type": "code",
   "execution_count": 101,
   "metadata": {},
   "outputs": [],
   "source": [
    "from sklearn.model_selection import StratifiedShuffleSplit\n",
    "stratified_split = StratifiedShuffleSplit(n_splits=1, test_size=0.3, random_state=42)\n",
    "\n",
    "# split the dataset into train and test sets,\n",
    "# note: we are using X[4] as our target variable, this is the the 'OverallHeight' feature, we stratify based upon this feature, as it has \n",
    "# the highest correlation with the target variable\n",
    "\n",
    "# convert X to a pandas dataframe so we can use the loc function\n",
    "for train_index, test_index in stratified_split.split(dataset, dataset['X5']):\n",
    "    train_set = dataset.loc[train_index]\n",
    "    test_set = dataset.loc[test_index]\n",
    "\n",
    "for train_index, test_index in stratified_split.split(dataset_fs, dataset_fs['X5']):\n",
    "    train_set_fs = dataset_fs.loc[train_index]\n",
    "    test_set_fs = dataset_fs.loc[test_index]"
   ]
  },
  {
   "cell_type": "code",
   "execution_count": 102,
   "metadata": {},
   "outputs": [
    {
     "name": "stdout",
     "output_type": "stream",
     "text": [
      "Index(['X1', 'X2', 'X3', 'X4', 'X5', 'X7', 'Y', 0, 1, 2], dtype='object')\n",
      "Index(['X1', 'X2', 'X3', 'X4', 'X5', 'X7', 'Y', 0, 1, 2], dtype='object')\n"
     ]
    }
   ],
   "source": [
    "print(dataset_fs.columns)\n",
    "print(train_set_fs.columns)"
   ]
  },
  {
   "attachments": {},
   "cell_type": "markdown",
   "metadata": {},
   "source": [
    "Standard scaler"
   ]
  },
  {
   "cell_type": "code",
   "execution_count": 103,
   "metadata": {},
   "outputs": [],
   "source": [
    "# scale the features\n",
    "\n",
    "train_set.columns = train_set.columns.astype(str)\n",
    "test_set.columns = test_set.columns.astype(str)\n",
    "\n",
    "train_set_fs.columns = train_set_fs.columns.astype(str)\n",
    "test_set_fs.columns = test_set_fs.columns.astype(str)\n",
    "\n",
    "train_scaler = StandardScaler()\n",
    "test_scaler = StandardScaler()\n",
    "\n",
    "train_scaler_fs = StandardScaler()\n",
    "test_scaler_fs = StandardScaler()\n",
    "\n",
    "train_set = train_scaler.fit_transform(train_set)\n",
    "test_set = test_scaler.fit_transform(test_set)\n",
    "\n",
    "train_set_fs = train_scaler_fs.fit_transform(train_set_fs)\n",
    "test_set_fs = test_scaler_fs.fit_transform(test_set_fs)"
   ]
  },
  {
   "cell_type": "code",
   "execution_count": 104,
   "metadata": {},
   "outputs": [
    {
     "name": "stdout",
     "output_type": "stream",
     "text": [
      "(537, 12)\n",
      "(231, 12)\n",
      "(537, 10)\n",
      "(231, 10)\n"
     ]
    }
   ],
   "source": [
    "print(train_set.shape)\n",
    "print(test_set.shape)\n",
    "\n",
    "print(train_set_fs.shape)\n",
    "print(test_set_fs.shape)"
   ]
  },
  {
   "attachments": {},
   "cell_type": "markdown",
   "metadata": {},
   "source": [
    "Split X and y"
   ]
  },
  {
   "cell_type": "code",
   "execution_count": 105,
   "metadata": {},
   "outputs": [],
   "source": [
    "X_train = np.delete(train_set, 9, axis=1)\n",
    "y_train = train_set[:, 9]\n",
    "X_test = np.delete(test_set, 9, axis=1)\n",
    "y_test = test_set[:, 9]\n",
    "\n",
    "X_train_fs = np.delete(train_set_fs, 9, axis=1)\n",
    "y_train_fs = train_set_fs[:, 9]\n",
    "X_test_fs = np.delete(test_set_fs, 9, axis=1)\n",
    "y_test_fs = test_set_fs[:, 9]"
   ]
  },
  {
   "attachments": {},
   "cell_type": "markdown",
   "metadata": {},
   "source": [
    "# Instantiating our models"
   ]
  },
  {
   "attachments": {},
   "cell_type": "markdown",
   "metadata": {},
   "source": [
    "Luckily for us, the sklearn API provides a GridSearchCV class, allowing us to iterate through a list of pipelines and models, evaluating their performance against one another, to find the optimal choice for the problem at hand; hyper parameters can also be deliberated upon within this process. Furhtermore, all of the models bar one (Polynomial regression) are already created in the sklearn API, so we can simply instantiate them, and pass them into the grid search."
   ]
  },
  {
   "attachments": {},
   "cell_type": "markdown",
   "metadata": {},
   "source": [
    "### Creating a polynomial regression model with regularisation"
   ]
  },
  {
   "attachments": {},
   "cell_type": "markdown",
   "metadata": {},
   "source": [
    "Unfortunately, unlike all the other models relevant to this analysis, the polynomial regression model isn't implemented within the sk-learn API. So we must create this manually. To ensure this works with the modularity concepts we have put in place elsewhere within the code, the implementation of this model is done so in accordance to the sk-learn pipeline API. This means that the model can be passed into the grid search, and the hyper parameters can be deliberated upon."
   ]
  },
  {
   "cell_type": "code",
   "execution_count": 106,
   "metadata": {},
   "outputs": [],
   "source": [
    "# REWRITE: Note that we import BaseEstimator and RegressorMixin from sklearn.base, and we define PolynomialRegression as \n",
    "# a subclass of both BaseEstimator and RegressorMixin. This allows us to use PolynomialRegression as a fully-fledged estimator \n",
    "# within the sklearn ecosystem.\n",
    "\n",
    "from sklearn.preprocessing import PolynomialFeatures\n",
    "from sklearn.base import BaseEstimator, RegressorMixin\n",
    "from sklearn.linear_model import LinearRegression, Ridge, Lasso, ElasticNet\n",
    "from sklearn.pipeline import Pipeline\n",
    "\n",
    "class PolynomialRegression(BaseEstimator, RegressorMixin):\n",
    "    def __init__(self, degree=2):\n",
    "        self.degree = degree\n",
    "        self.model = Pipeline([\n",
    "            ('poly', PolynomialFeatures(degree=self.degree)),\n",
    "            ('ridge', Ridge(alpha=0.1))\n",
    "        ])\n",
    "    \n",
    "    def fit(self, X, y):\n",
    "        self.model.fit(X, y)\n",
    "    \n",
    "    def predict(self, X):\n",
    "        return self.model.predict(X)\n",
    "    \n",
    "    def score(self, X, y):\n",
    "        return self.model.score(X, y)\n",
    "    \n",
    "    def set_params(self, **params):\n",
    "        for param, value in params.items():\n",
    "            if param.startswith('poly__'):\n",
    "                setattr(self.model.named_steps['poly'], param[len('poly__'):], value)\n",
    "            else:\n",
    "                setattr(self.model, param, value)\n",
    "        return self"
   ]
  },
  {
   "attachments": {},
   "cell_type": "markdown",
   "metadata": {},
   "source": [
    "### Instantiating all other models"
   ]
  },
  {
   "cell_type": "code",
   "execution_count": 107,
   "metadata": {},
   "outputs": [],
   "source": [
    "models = {\n",
    "    'LinearRegression': LinearRegression(),\n",
    "    'Ridge': Ridge(),\n",
    "    'Lasso': Lasso(),\n",
    "    'ElasticNet': ElasticNet(),\n",
    "    'PolynomialRegression': PolynomialRegression()\n",
    "}\n",
    "\n",
    "# we also define a dictionary of hyperparameters to be searched for each respective model,\n",
    "# will be iterated through matching the keys to the models dictionary\n",
    "\n",
    "param_grid = {\n",
    "    'LinearRegression': {},\n",
    "    'Ridge': {'alpha': [0.01, 0.1, 0.5, 1.0, 5.0, 10.0]},\n",
    "    'Lasso': {'alpha': [0.01, 0.1, 0.5, 1.0, 5.0, 10.0]},\n",
    "    'ElasticNet': {'alpha': [0.01, 0.1, 0.5, 1.0, 5.0, 10.0], 'l1_ratio': [0.1, 0.5, 0.9, 1.0]},\n",
    "    'PolynomialRegression': {'polynomialfeatures__degree': [2, 3, 4, 5], 'ridge__alpha': [0.01, 0.1, 0.5, 1.0, 5.0, 10.0]}\n",
    "}"
   ]
  },
  {
   "attachments": {},
   "cell_type": "markdown",
   "metadata": {},
   "source": [
    "### Perform grid search and save results"
   ]
  },
  {
   "cell_type": "code",
   "execution_count": 108,
   "metadata": {},
   "outputs": [
    {
     "name": "stdout",
     "output_type": "stream",
     "text": [
      "(537, 11)\n",
      "(537, 9)\n"
     ]
    }
   ],
   "source": [
    "print(X_train.shape)\n",
    "print(X_train_fs.shape)"
   ]
  },
  {
   "cell_type": "code",
   "execution_count": 109,
   "metadata": {},
   "outputs": [],
   "source": [
    "from sklearn.model_selection import GridSearchCV\n",
    "trained_models = {}\n",
    "param_results = {}\n",
    "results = []\n",
    "\n",
    "\n",
    "for model_name, model in models.items():\n",
    "    params = param_grid[model_name]\n",
    "    grid_search = GridSearchCV(\n",
    "        model, params, scoring='neg_mean_absolute_percentage_error', cv=5, n_jobs=1)\n",
    "    grid_search_fs = GridSearchCV(\n",
    "        model, params, scoring='neg_mean_absolute_percentage_error', cv=5, n_jobs=1)\n",
    "    grid_search.fit(X_train, y_train)\n",
    "    grid_search_fs.fit(X_train_fs, y_train_fs)\n",
    "    trained_models[model_name] = grid_search.best_estimator_\n",
    "    trained_models[model_name + '_fs'] = grid_search_fs.best_estimator_\n",
    "    param_results[model_name] = grid_search.best_params_\n",
    "    param_results[model_name + '_fs'] = grid_search_fs.best_params_\n",
    "    results.append({\n",
    "        'model': model_name,\n",
    "        'best_score': grid_search.best_score_,\n",
    "        'best_params': grid_search.best_params_,\n",
    "    })\n",
    "    results.append({\n",
    "        'model': model_name + '_fs',\n",
    "        'best_score': grid_search_fs.best_score_,\n",
    "        'best_params': grid_search_fs.best_params_\n",
    "    })\n"
   ]
  },
  {
   "cell_type": "code",
   "execution_count": 110,
   "metadata": {},
   "outputs": [
    {
     "data": {
      "text/html": [
       "<div>\n",
       "<style scoped>\n",
       "    .dataframe tbody tr th:only-of-type {\n",
       "        vertical-align: middle;\n",
       "    }\n",
       "\n",
       "    .dataframe tbody tr th {\n",
       "        vertical-align: top;\n",
       "    }\n",
       "\n",
       "    .dataframe thead th {\n",
       "        text-align: right;\n",
       "    }\n",
       "</style>\n",
       "<table border=\"1\" class=\"dataframe\">\n",
       "  <thead>\n",
       "    <tr style=\"text-align: right;\">\n",
       "      <th></th>\n",
       "      <th>model</th>\n",
       "      <th>best_score</th>\n",
       "      <th>best_params</th>\n",
       "    </tr>\n",
       "  </thead>\n",
       "  <tbody>\n",
       "    <tr>\n",
       "      <th>0</th>\n",
       "      <td>LinearRegression_fs</td>\n",
       "      <td>-8.087136e-16</td>\n",
       "      <td>{}</td>\n",
       "    </tr>\n",
       "    <tr>\n",
       "      <th>1</th>\n",
       "      <td>LinearRegression</td>\n",
       "      <td>-1.020892e-15</td>\n",
       "      <td>{}</td>\n",
       "    </tr>\n",
       "    <tr>\n",
       "      <th>2</th>\n",
       "      <td>Ridge_fs</td>\n",
       "      <td>-4.756288e-05</td>\n",
       "      <td>{'alpha': 0.01}</td>\n",
       "    </tr>\n",
       "    <tr>\n",
       "      <th>3</th>\n",
       "      <td>Ridge</td>\n",
       "      <td>-4.868050e-05</td>\n",
       "      <td>{'alpha': 0.01}</td>\n",
       "    </tr>\n",
       "    <tr>\n",
       "      <th>4</th>\n",
       "      <td>PolynomialRegression_fs</td>\n",
       "      <td>-2.108612e-04</td>\n",
       "      <td>{'polynomialfeatures__degree': 2, 'ridge__alph...</td>\n",
       "    </tr>\n",
       "    <tr>\n",
       "      <th>5</th>\n",
       "      <td>PolynomialRegression</td>\n",
       "      <td>-2.426127e-04</td>\n",
       "      <td>{'polynomialfeatures__degree': 2, 'ridge__alph...</td>\n",
       "    </tr>\n",
       "    <tr>\n",
       "      <th>6</th>\n",
       "      <td>ElasticNet_fs</td>\n",
       "      <td>-1.986714e-02</td>\n",
       "      <td>{'alpha': 0.01, 'l1_ratio': 0.1}</td>\n",
       "    </tr>\n",
       "    <tr>\n",
       "      <th>7</th>\n",
       "      <td>Lasso_fs</td>\n",
       "      <td>-2.013232e-02</td>\n",
       "      <td>{'alpha': 0.01}</td>\n",
       "    </tr>\n",
       "    <tr>\n",
       "      <th>8</th>\n",
       "      <td>ElasticNet</td>\n",
       "      <td>-2.033074e-02</td>\n",
       "      <td>{'alpha': 0.01, 'l1_ratio': 0.1}</td>\n",
       "    </tr>\n",
       "    <tr>\n",
       "      <th>9</th>\n",
       "      <td>Lasso</td>\n",
       "      <td>-2.044361e-02</td>\n",
       "      <td>{'alpha': 0.01}</td>\n",
       "    </tr>\n",
       "  </tbody>\n",
       "</table>\n",
       "</div>"
      ],
      "text/plain": [
       "                     model    best_score  \\\n",
       "0      LinearRegression_fs -8.087136e-16   \n",
       "1         LinearRegression -1.020892e-15   \n",
       "2                 Ridge_fs -4.756288e-05   \n",
       "3                    Ridge -4.868050e-05   \n",
       "4  PolynomialRegression_fs -2.108612e-04   \n",
       "5     PolynomialRegression -2.426127e-04   \n",
       "6            ElasticNet_fs -1.986714e-02   \n",
       "7                 Lasso_fs -2.013232e-02   \n",
       "8               ElasticNet -2.033074e-02   \n",
       "9                    Lasso -2.044361e-02   \n",
       "\n",
       "                                         best_params  \n",
       "0                                                 {}  \n",
       "1                                                 {}  \n",
       "2                                    {'alpha': 0.01}  \n",
       "3                                    {'alpha': 0.01}  \n",
       "4  {'polynomialfeatures__degree': 2, 'ridge__alph...  \n",
       "5  {'polynomialfeatures__degree': 2, 'ridge__alph...  \n",
       "6                   {'alpha': 0.01, 'l1_ratio': 0.1}  \n",
       "7                                    {'alpha': 0.01}  \n",
       "8                   {'alpha': 0.01, 'l1_ratio': 0.1}  \n",
       "9                                    {'alpha': 0.01}  "
      ]
     },
     "execution_count": 110,
     "metadata": {},
     "output_type": "execute_result"
    }
   ],
   "source": [
    "results_df = pd.DataFrame(results)\n",
    "results_df = results_df.sort_values(by=['best_score'], ascending=False)\n",
    "results_df = results_df.reset_index(drop=True)\n",
    "results_df"
   ]
  },
  {
   "attachments": {},
   "cell_type": "markdown",
   "metadata": {},
   "source": [
    "### Evaluate on the two best models"
   ]
  },
  {
   "cell_type": "code",
   "execution_count": 111,
   "metadata": {},
   "outputs": [
    {
     "data": {
      "text/plain": [
       "0.9981573907452783"
      ]
     },
     "execution_count": 111,
     "metadata": {},
     "output_type": "execute_result"
    }
   ],
   "source": [
    "trained_models['Lasso'].set_params(**param_results['Lasso']).score(X_test, y_test)"
   ]
  },
  {
   "cell_type": "code",
   "execution_count": 112,
   "metadata": {},
   "outputs": [
    {
     "data": {
      "text/plain": [
       "0.9981620374030648"
      ]
     },
     "execution_count": 112,
     "metadata": {},
     "output_type": "execute_result"
    }
   ],
   "source": [
    "trained_models['ElasticNet'].set_params(**param_results['ElasticNet']).score(X_test, y_test)"
   ]
  }
 ],
 "metadata": {
  "kernelspec": {
   "display_name": "mlenv",
   "language": "python",
   "name": "python3"
  },
  "language_info": {
   "codemirror_mode": {
    "name": "ipython",
    "version": 3
   },
   "file_extension": ".py",
   "mimetype": "text/x-python",
   "name": "python",
   "nbconvert_exporter": "python",
   "pygments_lexer": "ipython3",
   "version": "3.10.9"
  },
  "orig_nbformat": 4
 },
 "nbformat": 4,
 "nbformat_minor": 2
}
